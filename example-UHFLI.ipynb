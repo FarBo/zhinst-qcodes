{
 "cells": [
  {
   "cell_type": "code",
   "execution_count": 1,
   "metadata": {},
   "outputs": [],
   "source": [
    "%matplotlib notebook\n",
    "import numpy as np\n",
    "import matplotlib.pyplot as plt\n",
    "plt.ion()\n",
    "\n",
    "import qcodes as qc\n",
    "from ZI.uhfli import UHFLI"
   ]
  },
  {
   "cell_type": "code",
   "execution_count": 2,
   "metadata": {},
   "outputs": [
    {
     "name": "stdout",
     "output_type": "stream",
     "text": [
      "Successfully connected to data server at localhost8004 api version: 6\n",
      "Successfully connected to device DEV2006 on interface 1GBE\n",
      "Connected to: Zurich Instruments UHFLI (serial:dev2006, firmware:65939) in 1.16s\n"
     ]
    }
   ],
   "source": [
    "li = UHFLI(\"li\", \"dev2006\", \"1gbe\")"
   ]
  },
  {
   "cell_type": "code",
   "execution_count": null,
   "metadata": {},
   "outputs": [],
   "source": []
  },
  {
   "cell_type": "code",
   "execution_count": 3,
   "metadata": {},
   "outputs": [
    {
     "data": {
      "text/plain": [
       "<UHFLI: li>\n",
       "     submodules: \n",
       "         * stats\n",
       "         * oscs\n",
       "         * demods\n",
       "         * extrefs\n",
       "         * triggers\n",
       "         * status\n",
       "         * dios\n",
       "         * auxins\n",
       "         * system\n",
       "         * sigins\n",
       "         * sigouts\n",
       "         * mods\n",
       "         * boxcars\n",
       "         * outputpwas\n",
       "         * inputpwas\n",
       "         * aucarts\n",
       "         * aupolars\n",
       "         * pids\n",
       "         * features\n",
       "         * auxouts\n",
       "         * cnts\n",
       "     parameters: \n",
       "         * IDN\n",
       "         * clockbase\n",
       "___________________\n",
       "  zi submodules: \n",
       "         * awg"
      ]
     },
     "execution_count": 3,
     "metadata": {},
     "output_type": "execute_result"
    }
   ],
   "source": [
    "li"
   ]
  },
  {
   "cell_type": "code",
   "execution_count": null,
   "metadata": {},
   "outputs": [],
   "source": []
  }
 ],
 "metadata": {
  "kernelspec": {
   "display_name": "qcodes",
   "language": "python",
   "name": "qcodes"
  },
  "language_info": {
   "codemirror_mode": {
    "name": "ipython",
    "version": 3
   },
   "file_extension": ".py",
   "mimetype": "text/x-python",
   "name": "python",
   "nbconvert_exporter": "python",
   "pygments_lexer": "ipython3",
   "version": "3.7.5"
  }
 },
 "nbformat": 4,
 "nbformat_minor": 4
}
