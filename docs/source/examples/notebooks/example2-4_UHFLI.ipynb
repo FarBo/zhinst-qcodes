{
 "cells": [
  {
   "cell_type": "markdown",
   "metadata": {},
   "source": [
    "# UHFLI\n",
    "\n",
    "We use the `ziqc.UHFLI` instrument driver for the *UHFLI* Lock-In amplifier."
   ]
  },
  {
   "cell_type": "code",
   "execution_count": 1,
   "metadata": {},
   "outputs": [
    {
     "name": "stdout",
     "output_type": "stream",
     "text": [
      "Successfully connected to data server at 10.42.0.2268004 api version: 6\n",
      "Successfully connected to device DEV2324 on interface 1GBE\n",
      "Connected to: Zurich Instruments UHFLI (serial:dev2324, firmware:65939) in 4.14s\n"
     ]
    }
   ],
   "source": [
    "import numpy as np\n",
    "import matplotlib.pyplot as plt\n",
    "\n",
    "import qcodes as qc\n",
    "import zhinst.qcodes as ziqc\n",
    "\n",
    "uhfli = ziqc.UHFLI(\"uhf1\", \"dev2324\", interface=\"1GbE\", host=\"10.42.0.226\")"
   ]
  },
  {
   "cell_type": "markdown",
   "metadata": {},
   "source": [
    "## Nodetree\n",
    "\n",
    "Access the *UHFLI's* nodetree:"
   ]
  },
  {
   "cell_type": "code",
   "execution_count": 3,
   "metadata": {},
   "outputs": [
    {
     "name": "stdout",
     "output_type": "stream",
     "text": [
      "['awg', 'daq', 'sweeper', 'stats', 'oscs', 'demods', 'extrefs', 'triggers', 'status', 'dios', 'auxins', 'system', 'sigins', 'sigouts', 'mods', 'boxcars', 'outputpwas', 'inputpwas', 'aucarts', 'aupolars', 'pids', 'features', 'auxouts', 'cnts']\n",
      "['IDN', 'clockbase']\n"
     ]
    }
   ],
   "source": [
    "print([k for k in uhfli.submodules.keys()])\n",
    "print([k for k in uhfli.parameters.keys()])"
   ]
  },
  {
   "cell_type": "markdown",
   "metadata": {},
   "source": [
    "The `Parameter` *sample* of the demodulators uses the `getSample(...)` method of the *ziPython* API to read the latest sample of the demodulator. "
   ]
  },
  {
   "cell_type": "code",
   "execution_count": 4,
   "metadata": {},
   "outputs": [
    {
     "data": {
      "text/plain": [
       "(0.35104518858572165-0.02384757808564967j)"
      ]
     },
     "execution_count": 4,
     "metadata": {},
     "output_type": "execute_result"
    }
   ],
   "source": [
    "uhfli.demods[0].sample()"
   ]
  },
  {
   "cell_type": "markdown",
   "metadata": {},
   "source": [
    "> ⚠️ Note that this parameter only returns a *single* sample. There is no guarantee for any precise time-relation between consecutive samples. For proper (triggered) data acquisition of signals aligned to a precise time-grid, please use the *Data Acquisition Module* (see below)."
   ]
  },
  {
   "cell_type": "markdown",
   "metadata": {},
   "source": [
    "## The *Data Acquisition Module* of the *UHFLI*\n",
    "\n",
    "Similarly to the *MFLI*, the *UHFLI* comes with a *Data Acquisition Module*. For more details, see the corresponding example about the *Data Acquisition Module*. "
   ]
  },
  {
   "cell_type": "code",
   "execution_count": 6,
   "metadata": {},
   "outputs": [
    {
     "name": "stdout",
     "output_type": "stream",
     "text": [
      "['awgcontrol', 'bandwidth', 'bitmask', 'bits', 'buffercount', 'buffersize', 'clearhistory', 'count', 'delay', 'device', 'duration', 'edge', 'enable', 'endless', 'eventcount_mode', 'fft_absolute', 'fft_window', 'findlevel', 'flags', 'forcetrigger', 'grid_cols', 'grid_direction', 'grid_mode', 'grid_overwrite', 'grid_repetitions', 'grid_rowrepetition', 'grid_rows', 'grid_waterfall', 'historylength', 'holdoff_count', 'holdoff_time', 'hysteresis', 'level', 'preview', 'pulse_max', 'pulse_min', 'refreshrate', 'save_csvlocale', 'save_csvseparator', 'save_directory', 'save_fileformat', 'save_filename', 'save_save', 'save_saveonread', 'spectrum_autobandwidth', 'spectrum_enable', 'spectrum_frequencyspan', 'spectrum_overlapped', 'triggered', 'triggernode', 'type']\n"
     ]
    }
   ],
   "source": [
    "print([k for k in uhfli.daq.parameters.keys()])"
   ]
  },
  {
   "cell_type": "markdown",
   "metadata": {},
   "source": [
    "The method `signals_list()` shows the available sources of streaming signals. Note that they differ with the installed options of the *UHFLI*."
   ]
  },
  {
   "cell_type": "code",
   "execution_count": 7,
   "metadata": {},
   "outputs": [
    {
     "data": {
      "text/plain": [
       "['dio0',\n",
       " 'auxin0',\n",
       " 'scope0',\n",
       " 'boxcar0',\n",
       " 'boxcar1',\n",
       " 'outputpwa0',\n",
       " 'outputpwa1',\n",
       " 'inputpwa0',\n",
       " 'inputpwa1',\n",
       " 'aucart0',\n",
       " 'aucart1',\n",
       " 'aupolar0',\n",
       " 'aupolar1',\n",
       " 'cnt0',\n",
       " 'cnt1',\n",
       " 'cnt2',\n",
       " 'cnt3',\n",
       " 'demod0',\n",
       " 'demod1',\n",
       " 'demod2',\n",
       " 'demod3',\n",
       " 'demod4',\n",
       " 'demod5',\n",
       " 'demod6',\n",
       " 'demod7',\n",
       " 'pid0_value',\n",
       " 'pid0_error',\n",
       " 'pid0_shift',\n",
       " 'pid1_value',\n",
       " 'pid1_error',\n",
       " 'pid1_shift',\n",
       " 'pid2_value',\n",
       " 'pid2_error',\n",
       " 'pid2_shift',\n",
       " 'pid3_value',\n",
       " 'pid3_error',\n",
       " 'pid3_shift']"
      ]
     },
     "execution_count": 7,
     "metadata": {},
     "output_type": "execute_result"
    }
   ],
   "source": [
    "uhfli.daq.signals_list()"
   ]
  },
  {
   "cell_type": "markdown",
   "metadata": {},
   "source": [
    "## The *Sweeper Module* of the *UHFLI* \n",
    "\n",
    "The *UHFLI* also feeatures a *Sweeper Module* with all of the following *Parameters*:"
   ]
  },
  {
   "cell_type": "code",
   "execution_count": 9,
   "metadata": {},
   "outputs": [
    {
     "name": "stdout",
     "output_type": "stream",
     "text": [
      "['averaging_sample', 'averaging_tc', 'averaging_time', 'awgcontrol', 'bandwidth', 'bandwidthcontrol', 'bandwidthoverlap', 'clearhistory', 'device', 'endless', 'gridnode', 'historylength', 'loopcount', 'maxbandwidth', 'omegasuppression', 'order', 'phaseunwrap', 'remainingtime', 'samplecount', 'save_csvlocale', 'save_csvseparator', 'save_directory', 'save_fileformat', 'save_filename', 'save_save', 'save_saveonread', 'scan', 'settling_inaccuracy', 'settling_tc', 'settling_time', 'sincfilter', 'start', 'stop', 'xmapping']\n"
     ]
    }
   ],
   "source": [
    "print([k for k in uhfli.sweeper.parameters.keys()])"
   ]
  },
  {
   "cell_type": "markdown",
   "metadata": {},
   "source": [
    "As for the *Data Acquisition Module* the available signal sources can be shown with `signals_list(...)`. They can differ depending on the options installed in the instrument."
   ]
  },
  {
   "cell_type": "code",
   "execution_count": 10,
   "metadata": {},
   "outputs": [
    {
     "data": {
      "text/plain": [
       "['dio0',\n",
       " 'auxin0',\n",
       " 'scope0',\n",
       " 'boxcar0',\n",
       " 'boxcar1',\n",
       " 'outputpwa0',\n",
       " 'outputpwa1',\n",
       " 'inputpwa0',\n",
       " 'inputpwa1',\n",
       " 'aucart0',\n",
       " 'aucart1',\n",
       " 'aupolar0',\n",
       " 'aupolar1',\n",
       " 'cnt0',\n",
       " 'cnt1',\n",
       " 'cnt2',\n",
       " 'cnt3',\n",
       " 'demod0',\n",
       " 'demod1',\n",
       " 'demod2',\n",
       " 'demod3',\n",
       " 'demod4',\n",
       " 'demod5',\n",
       " 'demod6',\n",
       " 'demod7',\n",
       " 'pid0_value',\n",
       " 'pid0_error',\n",
       " 'pid0_shift',\n",
       " 'pid1_value',\n",
       " 'pid1_error',\n",
       " 'pid1_shift',\n",
       " 'pid2_value',\n",
       " 'pid2_error',\n",
       " 'pid2_shift',\n",
       " 'pid3_value',\n",
       " 'pid3_error',\n",
       " 'pid3_shift']"
      ]
     },
     "execution_count": 10,
     "metadata": {},
     "output_type": "execute_result"
    }
   ],
   "source": [
    "uhfli.sweeper.signals_list()"
   ]
  },
  {
   "cell_type": "markdown",
   "metadata": {},
   "source": [
    "The *Parameters* that are available for sweeping can be listed with `sweep_parameter_list()`."
   ]
  },
  {
   "cell_type": "code",
   "execution_count": 11,
   "metadata": {},
   "outputs": [
    {
     "data": {
      "text/plain": [
       "['auxout0_offset',\n",
       " 'auxout1_offset',\n",
       " 'auxout2_offset',\n",
       " 'auxout3_offset',\n",
       " 'awg_amplitude0',\n",
       " 'awg_amplitude1',\n",
       " 'awg_trigger0',\n",
       " 'awg_trigger1',\n",
       " 'awg_trigger2',\n",
       " 'awg_trigger3',\n",
       " 'awg_triggerlevel0',\n",
       " 'awg_triggerlevel1',\n",
       " 'awg_userreg0',\n",
       " 'awg_userreg1',\n",
       " 'awg_userreg2',\n",
       " 'awg_userreg3',\n",
       " 'awg_userreg4',\n",
       " 'awg_userreg5',\n",
       " 'awg_userreg6',\n",
       " 'awg_userreg7',\n",
       " 'awg_userreg8',\n",
       " 'awg_userreg9',\n",
       " 'awg_userreg10',\n",
       " 'awg_userreg11',\n",
       " 'awg_userreg12',\n",
       " 'awg_userreg13',\n",
       " 'awg_userreg14',\n",
       " 'awg_userreg15',\n",
       " 'boxcar0_windowsize',\n",
       " 'boxcar0_windowstart',\n",
       " 'boxcar1_windowsize',\n",
       " 'boxcar1_windowstart',\n",
       " 'mod0_carrieramp',\n",
       " 'mod0_index',\n",
       " 'mod0_sideband0amp',\n",
       " 'mod0_sideband1amp',\n",
       " 'mod1_carrieramp',\n",
       " 'mod1_index',\n",
       " 'mod1_sideband0amp',\n",
       " 'mod1_sideband1amp',\n",
       " 'demdod0_phase',\n",
       " 'demdod1_phase',\n",
       " 'demdod2_phase',\n",
       " 'demdod3_phase',\n",
       " 'demdod4_phase',\n",
       " 'demdod5_phase',\n",
       " 'demdod6_phase',\n",
       " 'demdod7_phase',\n",
       " 'frequency0',\n",
       " 'frequency1',\n",
       " 'frequency2',\n",
       " 'frequency3',\n",
       " 'frequency4',\n",
       " 'frequency5',\n",
       " 'frequency6',\n",
       " 'frequency7',\n",
       " 'pid0_setpoint',\n",
       " 'pid1_setpoint',\n",
       " 'pid2_setpoint',\n",
       " 'pid3_setpoint',\n",
       " 'output0_amp',\n",
       " 'output0_offset',\n",
       " 'output1_amp',\n",
       " 'output2_offset']"
      ]
     },
     "execution_count": 11,
     "metadata": {},
     "output_type": "execute_result"
    }
   ],
   "source": [
    "uhfli.sweeper.sweep_parameter_list()"
   ]
  }
 ],
 "metadata": {
  "kernelspec": {
   "display_name": "Python 3",
   "language": "python",
   "name": "python3"
  },
  "language_info": {
   "codemirror_mode": {
    "name": "ipython",
    "version": 3
   },
   "file_extension": ".py",
   "mimetype": "text/x-python",
   "name": "python",
   "nbconvert_exporter": "python",
   "pygments_lexer": "ipython3",
   "version": "3.6.9"
  }
 },
 "nbformat": 4,
 "nbformat_minor": 4
}
