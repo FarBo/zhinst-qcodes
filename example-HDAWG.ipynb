{
 "cells": [
  {
   "cell_type": "code",
   "execution_count": 1,
   "metadata": {},
   "outputs": [],
   "source": [
    "%matplotlib notebook\n",
    "import numpy as np\n",
    "import matplotlib.pyplot as plt\n",
    "plt.ion()\n",
    "\n",
    "import qcodes as qc\n",
    "from ZI.HDAWG import HDAWG"
   ]
  },
  {
   "cell_type": "code",
   "execution_count": 2,
   "metadata": {},
   "outputs": [
    {
     "name": "stdout",
     "output_type": "stream",
     "text": [
      "Successfully connected to data server at localhost8004 api version: 6\n",
      "Successfully connected to device DEV8030 on interface 1GBE\n",
      "Connected to: Zurich Instruments HDAWG (serial:dev8030, firmware:65991) in 0.47s\n"
     ]
    }
   ],
   "source": [
    "hd = HDAWG(\"hdawg\", \"dev8030\")"
   ]
  },
  {
   "cell_type": "markdown",
   "metadata": {},
   "source": [
    "## HDAWG"
   ]
  },
  {
   "cell_type": "code",
   "execution_count": 3,
   "metadata": {},
   "outputs": [
    {
     "data": {
      "text/plain": [
       "<HDAWG: hdawg>\n",
       "     submodules: \n",
       "         * system\n",
       "         * oscs\n",
       "         * sines\n",
       "         * triggers\n",
       "         * dios\n",
       "         * sigouts\n",
       "         * awgs\n",
       "         * cnts\n",
       "         * sequencers\n",
       "     parameters: \n",
       "         * IDN\n",
       "         * clockbase"
      ]
     },
     "execution_count": 3,
     "metadata": {},
     "output_type": "execute_result"
    }
   ],
   "source": [
    "hd"
   ]
  },
  {
   "cell_type": "code",
   "execution_count": 12,
   "metadata": {},
   "outputs": [],
   "source": [
    "for s in hd.sequencers:\n",
    "    s.set_sequence_params(\n",
    "        sequence_type=\"Rabi\",\n",
    "        pulse_amplitudes=np.linspace(0, 1, 101),\n",
    "        pulse_width=50e-9,\n",
    "        repetitions=100,\n",
    "        period=100e-6,\n",
    "        trigger_mode=\"Send Trigger\"\n",
    "    )"
   ]
  },
  {
   "cell_type": "code",
   "execution_count": 13,
   "metadata": {},
   "outputs": [
    {
     "data": {
      "text/plain": [
       "ZIAWG: hdawg_awg0\n",
       "    parent  : <HDAWG: hdawg>\n",
       "     submodules: \n",
       "         * system\n",
       "         * oscs\n",
       "         * sines\n",
       "         * triggers\n",
       "         * dios\n",
       "         * sigouts\n",
       "         * awgs\n",
       "         * cnts\n",
       "         * sequencers\n",
       "     parameters: \n",
       "         * IDN\n",
       "         * clockbase\n",
       "\n",
       "    index   : 0\n",
       "    sequence: \n",
       "           type: Rabi\n",
       "            ('target', 'hdawg')\n",
       "            ('clock_rate', 2400000000.0)\n",
       "            ('period', 0.0001)\n",
       "            ('trigger_mode', 'Send Trigger')\n",
       "            ('repetitions', 100)\n",
       "            ('n_HW_loop', 101)\n",
       "            ('dead_time', 5e-06)\n",
       "            ('trigger_delay', 0)\n",
       "            ('latency', 1.6e-07)\n",
       "            ('trigger_cmd_1', 'setTrigger(1);\\n')\n",
       "            ('trigger_cmd_2', 'setTrigger(0);\\n')\n",
       "            ('wait_cycles', 28410.0)\n",
       "            ('dead_cycles', 1500)\n",
       "            ('pulse_amplitudes', array([0.  , 0.01, 0.02, 0.03, 0.04, 0.05, 0.06, 0.07, 0.08, 0.09, 0.1 ,\n",
       "       0.11, 0.12, 0.13, 0.14, 0.15, 0.16, 0.17, 0.18, 0.19, 0.2 , 0.21,\n",
       "       0.22, 0.23, 0.24, 0.25, 0.26, 0.27, 0.28, 0.29, 0.3 , 0.31, 0.32,\n",
       "       0.33, 0.34, 0.35, 0.36, 0.37, 0.38, 0.39, 0.4 , 0.41, 0.42, 0.43,\n",
       "       0.44, 0.45, 0.46, 0.47, 0.48, 0.49, 0.5 , 0.51, 0.52, 0.53, 0.54,\n",
       "       0.55, 0.56, 0.57, 0.58, 0.59, 0.6 , 0.61, 0.62, 0.63, 0.64, 0.65,\n",
       "       0.66, 0.67, 0.68, 0.69, 0.7 , 0.71, 0.72, 0.73, 0.74, 0.75, 0.76,\n",
       "       0.77, 0.78, 0.79, 0.8 , 0.81, 0.82, 0.83, 0.84, 0.85, 0.86, 0.87,\n",
       "       0.88, 0.89, 0.9 , 0.91, 0.92, 0.93, 0.94, 0.95, 0.96, 0.97, 0.98,\n",
       "       0.99, 1.  ]))\n",
       "            ('pulse_width', 5e-08)\n",
       "            ('pulse_truncation', 3)"
      ]
     },
     "execution_count": 13,
     "metadata": {},
     "output_type": "execute_result"
    }
   ],
   "source": [
    "hd.sequencers[0]"
   ]
  },
  {
   "cell_type": "code",
   "execution_count": 14,
   "metadata": {},
   "outputs": [
    {
     "name": "stdout",
     "output_type": "stream",
     "text": [
      "Compilation successful\n",
      "hdawg0: Sequencer status: ELF file uploaded\n"
     ]
    }
   ],
   "source": [
    "hd.sequencers[0].compile()"
   ]
  },
  {
   "cell_type": "code",
   "execution_count": 15,
   "metadata": {},
   "outputs": [
    {
     "name": "stdout",
     "output_type": "stream",
     "text": [
      "hdawg0: Started AWG 0!\n"
     ]
    }
   ],
   "source": [
    "hd.sequencers[0].run()"
   ]
  },
  {
   "cell_type": "code",
   "execution_count": 16,
   "metadata": {},
   "outputs": [
    {
     "data": {
      "text/plain": [
       "False"
      ]
     },
     "execution_count": 16,
     "metadata": {},
     "output_type": "execute_result"
    }
   ],
   "source": [
    "any(s.is_running for s in hd.sequencers)"
   ]
  },
  {
   "cell_type": "code",
   "execution_count": null,
   "metadata": {},
   "outputs": [],
   "source": []
  }
 ],
 "metadata": {
  "kernelspec": {
   "display_name": "qcodes",
   "language": "python",
   "name": "qcodes"
  },
  "language_info": {
   "codemirror_mode": {
    "name": "ipython",
    "version": 3
   },
   "file_extension": ".py",
   "mimetype": "text/x-python",
   "name": "python",
   "nbconvert_exporter": "python",
   "pygments_lexer": "ipython3",
   "version": "3.7.5"
  }
 },
 "nbformat": 4,
 "nbformat_minor": 4
}
