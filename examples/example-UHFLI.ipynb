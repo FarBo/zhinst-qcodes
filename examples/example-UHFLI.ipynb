{
 "cells": [
  {
   "cell_type": "code",
   "execution_count": 1,
   "metadata": {},
   "outputs": [],
   "source": [
    "%matplotlib inline\n",
    "import numpy as np\n",
    "import matplotlib.pyplot as plt\n",
    "plt.ion()\n",
    "\n",
    "import qcodes as qc\n",
    "from zhinst.qcodes import UHFLI"
   ]
  },
  {
   "cell_type": "code",
   "execution_count": 2,
   "metadata": {},
   "outputs": [
    {
     "name": "stdout",
     "output_type": "stream",
     "text": [
      "Successfully connected to data server at localhost8004 api version: 6\n",
      "Successfully connected to device DEV2006 on interface 1GBE\n",
      "Connected to: Zurich Instruments UHFLI (serial:dev2006, firmware:66083) in 0.49s\n"
     ]
    }
   ],
   "source": [
    "li = UHFLI(\"li\", \"dev2006\", \"1gbe\")"
   ]
  },
  {
   "cell_type": "code",
   "execution_count": 3,
   "metadata": {},
   "outputs": [
    {
     "data": {
      "text/plain": [
       "{'stats': <ZINode: li_stats of UHFLI: li>,\n",
       " 'oscs': ChannelList(<UHFLI: li>, ZINode, (<ZINode: li_oscs0 of UHFLI: li>,)),\n",
       " 'triggers': <ZINode: li_triggers of UHFLI: li>,\n",
       " 'status': <ZINode: li_status of UHFLI: li>,\n",
       " 'dios': ChannelList(<UHFLI: li>, ZINode, (<ZINode: li_dios0 of UHFLI: li>,)),\n",
       " 'auxins': ChannelList(<UHFLI: li>, ZINode, (<ZINode: li_auxins0 of UHFLI: li>,)),\n",
       " 'system': <ZINode: li_system of UHFLI: li>,\n",
       " 'sigins': ChannelList(<UHFLI: li>, ZINode, (<ZINode: li_sigins0 of UHFLI: li>, <ZINode: li_sigins1 of UHFLI: li>)),\n",
       " 'sigouts': ChannelList(<UHFLI: li>, ZINode, (<ZINode: li_sigouts0 of UHFLI: li>, <ZINode: li_sigouts1 of UHFLI: li>)),\n",
       " 'features': <ZINode: li_features of UHFLI: li>,\n",
       " 'auxouts': ChannelList(<UHFLI: li>, ZINode, (<ZINode: li_auxouts0 of UHFLI: li>, <ZINode: li_auxouts1 of UHFLI: li>, <ZINode: li_auxouts2 of UHFLI: li>, <ZINode: li_auxouts3 of UHFLI: li>)),\n",
       " 'qas': ChannelList(<UHFLI: li>, ZINode, (<ZINode: li_qas0 of UHFLI: li>,)),\n",
       " 'awg': <AWG: li_awg of UHFLI: li>}"
      ]
     },
     "execution_count": 3,
     "metadata": {},
     "output_type": "execute_result"
    }
   ],
   "source": [
    "li.submodules"
   ]
  },
  {
   "cell_type": "code",
   "execution_count": 4,
   "metadata": {},
   "outputs": [
    {
     "data": {
      "text/plain": [
       "9999999.999995168"
      ]
     },
     "execution_count": 4,
     "metadata": {},
     "output_type": "execute_result"
    }
   ],
   "source": [
    "li.oscs[0].freq()"
   ]
  },
  {
   "cell_type": "code",
   "execution_count": null,
   "metadata": {},
   "outputs": [],
   "source": []
  },
  {
   "cell_type": "code",
   "execution_count": null,
   "metadata": {},
   "outputs": [],
   "source": []
  }
 ],
 "metadata": {
  "kernelspec": {
   "display_name": "qcodes",
   "language": "python",
   "name": "qcodes"
  },
  "language_info": {
   "codemirror_mode": {
    "name": "ipython",
    "version": 3
   },
   "file_extension": ".py",
   "mimetype": "text/x-python",
   "name": "python",
   "nbconvert_exporter": "python",
   "pygments_lexer": "ipython3",
   "version": "3.7.5"
  }
 },
 "nbformat": 4,
 "nbformat_minor": 4
}
