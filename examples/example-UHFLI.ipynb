{
 "cells": [
  {
   "cell_type": "code",
   "execution_count": 1,
   "metadata": {},
   "outputs": [],
   "source": [
    "%matplotlib notebook\n",
    "import numpy as np\n",
    "import matplotlib.pyplot as plt\n",
    "plt.ion()\n",
    "\n",
    "import qcodes as qc\n",
    "from ZI.UHFLI import UHFLI\n",
    "import zhinst.toolkit as tk"
   ]
  },
  {
   "cell_type": "code",
   "execution_count": 2,
   "metadata": {},
   "outputs": [
    {
     "name": "stdout",
     "output_type": "stream",
     "text": [
      "Successfully connected to data server at localhost8004 api version: 6\n",
      "Successfully connected to device DEV2266 on interface 1GBE\n",
      "Connected to: Zurich Instruments UHFLI (serial:dev2266, firmware:65939) in 0.32s\n"
     ]
    }
   ],
   "source": [
    "li = UHFLI(\"li\", \"dev2266\", \"1gbe\")"
   ]
  },
  {
   "cell_type": "code",
   "execution_count": 4,
   "metadata": {},
   "outputs": [
    {
     "data": {
      "text/plain": [
       "li: <zhinst.toolkit.UHFLI.AWG object at 0x0000022F12792F88>\n",
       "    parent  : <zhinst.toolkit.UHFLI.UHFLI object at 0x0000022F12730608>\n",
       "    index   : 0\n",
       "    sequence: \n",
       "           type: None\n",
       "            ('target', 'uhfqa')\n",
       "            ('clock_rate', 2400000000.0)\n",
       "            ('period', 0.0001)\n",
       "            ('trigger_mode', 'None')\n",
       "            ('repetitions', 1)\n",
       "            ('alignment', 'End with Trigger')\n",
       "            ('n_HW_loop', 1)\n",
       "            ('dead_time', 5e-06)\n",
       "            ('trigger_delay', 0)\n",
       "            ('latency', 1.6e-07)\n",
       "            ('trigger_cmd_1', '//\\n')\n",
       "            ('trigger_cmd_2', '//\\n')\n",
       "            ('wait_cycles', 0)\n",
       "            ('dead_cycles', 0)"
      ]
     },
     "execution_count": 4,
     "metadata": {},
     "output_type": "execute_result"
    }
   ],
   "source": [
    "li.awg"
   ]
  },
  {
   "cell_type": "code",
   "execution_count": null,
   "metadata": {},
   "outputs": [],
   "source": []
  }
 ],
 "metadata": {
  "kernelspec": {
   "display_name": "qcodes",
   "language": "python",
   "name": "qcodes"
  },
  "language_info": {
   "codemirror_mode": {
    "name": "ipython",
    "version": 3
   },
   "file_extension": ".py",
   "mimetype": "text/x-python",
   "name": "python",
   "nbconvert_exporter": "python",
   "pygments_lexer": "ipython3",
   "version": "3.7.5"
  }
 },
 "nbformat": 4,
 "nbformat_minor": 4
}
