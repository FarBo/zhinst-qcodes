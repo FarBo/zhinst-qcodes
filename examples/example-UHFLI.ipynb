{
 "cells": [
  {
   "cell_type": "code",
   "execution_count": 2,
   "metadata": {},
   "outputs": [],
   "source": [
    "%matplotlib inline\n",
    "import numpy as np\n",
    "import matplotlib.pyplot as plt\n",
    "plt.ion()\n",
    "\n",
    "import qcodes as qc\n",
    "from zhinst.qcodes import UHFLI"
   ]
  },
  {
   "cell_type": "code",
   "execution_count": 3,
   "metadata": {},
   "outputs": [
    {
     "name": "stdout",
     "output_type": "stream",
     "text": [
      "Successfully connected to data server at 10.42.0.2448004 api version: 6\n",
      "Successfully connected to device DEV2324 on interface 1GBE\n",
      "Connected to: Zurich Instruments UHFLI (serial:dev2324, firmware:65939) in 3.37s\n"
     ]
    }
   ],
   "source": [
    "li = UHFLI(\"li\", \"dev2324\", \"1gbe\", host=\"10.42.0.244\", port=8004)"
   ]
  },
  {
   "cell_type": "code",
   "execution_count": 4,
   "metadata": {},
   "outputs": [
    {
     "data": {
      "text/plain": [
       "['dio0',\n",
       " 'auxin0',\n",
       " 'scope0',\n",
       " 'boxcar0',\n",
       " 'boxcar1',\n",
       " 'outputpwa0',\n",
       " 'outputpwa1',\n",
       " 'inputpwa0',\n",
       " 'inputpwa1',\n",
       " 'aucart0',\n",
       " 'aucart1',\n",
       " 'aupolar0',\n",
       " 'aupolar1',\n",
       " 'cnt0',\n",
       " 'cnt1',\n",
       " 'cnt2',\n",
       " 'cnt3',\n",
       " 'demod0',\n",
       " 'demod1',\n",
       " 'demod2',\n",
       " 'demod3',\n",
       " 'demod4',\n",
       " 'demod5',\n",
       " 'demod6',\n",
       " 'demod7',\n",
       " 'pid0_value',\n",
       " 'pid0_error',\n",
       " 'pid0_shift',\n",
       " 'pid1_value',\n",
       " 'pid1_error',\n",
       " 'pid1_shift',\n",
       " 'pid2_value',\n",
       " 'pid2_error',\n",
       " 'pid2_shift',\n",
       " 'pid3_value',\n",
       " 'pid3_error',\n",
       " 'pid3_shift']"
      ]
     },
     "execution_count": 4,
     "metadata": {},
     "output_type": "execute_result"
    }
   ],
   "source": [
    "li.daq.signals_list()"
   ]
  },
  {
   "cell_type": "code",
   "execution_count": 5,
   "metadata": {},
   "outputs": [
    {
     "data": {
      "text/plain": [
       "12123451.534315422"
      ]
     },
     "execution_count": 5,
     "metadata": {},
     "output_type": "execute_result"
    }
   ],
   "source": [
    "li.oscs[0].freq()"
   ]
  },
  {
   "cell_type": "code",
   "execution_count": null,
   "metadata": {},
   "outputs": [],
   "source": []
  },
  {
   "cell_type": "code",
   "execution_count": 3,
   "metadata": {},
   "outputs": [],
   "source": [
    "import zhinst.ziPython as zi"
   ]
  },
  {
   "cell_type": "code",
   "execution_count": 4,
   "metadata": {},
   "outputs": [
    {
     "ename": "RuntimeError",
     "evalue": "Could not connect to a Zurich Instruments data server on host '10.42.0.241' and port 8004. Make sure that the server is running, host / port names are correct, API / DataServer versions match.",
     "output_type": "error",
     "traceback": [
      "\u001b[1;31m---------------------------------------------------------------------------\u001b[0m",
      "\u001b[1;31mRuntimeError\u001b[0m                              Traceback (most recent call last)",
      "\u001b[1;32m<ipython-input-4-f6bf69586e44>\u001b[0m in \u001b[0;36m<module>\u001b[1;34m\u001b[0m\n\u001b[1;32m----> 1\u001b[1;33m \u001b[0mdaq\u001b[0m \u001b[1;33m=\u001b[0m \u001b[0mzi\u001b[0m\u001b[1;33m.\u001b[0m\u001b[0mziDAQServer\u001b[0m\u001b[1;33m(\u001b[0m\u001b[1;34m\"10.42.0.241\"\u001b[0m\u001b[1;33m,\u001b[0m \u001b[1;36m8004\u001b[0m\u001b[1;33m,\u001b[0m \u001b[1;36m6\u001b[0m\u001b[1;33m)\u001b[0m\u001b[1;33m\u001b[0m\u001b[1;33m\u001b[0m\u001b[0m\n\u001b[0m",
      "\u001b[1;31mRuntimeError\u001b[0m: Could not connect to a Zurich Instruments data server on host '10.42.0.241' and port 8004. Make sure that the server is running, host / port names are correct, API / DataServer versions match."
     ]
    }
   ],
   "source": [
    "daq = zi.ziDAQServer(\"10.42.0.241\", 8004, 6)"
   ]
  },
  {
   "cell_type": "code",
   "execution_count": null,
   "metadata": {},
   "outputs": [],
   "source": []
  }
 ],
 "metadata": {
  "kernelspec": {
   "display_name": "qcodes",
   "language": "python",
   "name": "qcodes"
  },
  "language_info": {
   "codemirror_mode": {
    "name": "ipython",
    "version": 3
   },
   "file_extension": ".py",
   "mimetype": "text/x-python",
   "name": "python",
   "nbconvert_exporter": "python",
   "pygments_lexer": "ipython3",
   "version": "3.7.5"
  }
 },
 "nbformat": 4,
 "nbformat_minor": 4
}
