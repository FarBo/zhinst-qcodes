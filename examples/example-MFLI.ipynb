{
 "cells": [
  {
   "cell_type": "code",
   "execution_count": 1,
   "metadata": {},
   "outputs": [],
   "source": [
    "%matplotlib inline\n",
    "import numpy as np\n",
    "import matplotlib.pyplot as plt\n",
    "\n",
    "import qcodes as qc\n",
    "from zhinst.qcodes import MFLI"
   ]
  },
  {
   "cell_type": "code",
   "execution_count": 2,
   "metadata": {},
   "outputs": [
    {
     "name": "stdout",
     "output_type": "stream",
     "text": [
      "Successfully connected to data server at 10.42.3.788004 api version: 6\n",
      "Successfully connected to device DEV3337 on interface PCIE\n",
      "Connected to: Zurich Instruments MFLI (serial:dev3337, firmware:65939) in 0.88s\n"
     ]
    }
   ],
   "source": [
    "mf = MFLI(\"mf\", \"dev3337\", interface=\"pcie\", host=\"10.42.3.78\")"
   ]
  },
  {
   "cell_type": "code",
   "execution_count": null,
   "metadata": {},
   "outputs": [],
   "source": []
  },
  {
   "cell_type": "code",
   "execution_count": 3,
   "metadata": {},
   "outputs": [],
   "source": [
    "# tik = time.time()\n",
    "# s = mf.demods[0].sample()\n",
    "# print(time.time() - tik)\n",
    "\n",
    "# print(f\"X    : {np.real(s):.3}\")\n",
    "# print(f\"Y    : {np.imag(s):.3}\")\n",
    "# print(f\"R    : {np.abs(s):.3}\")\n",
    "# print(f\"deg  : {np.angle(s):.3}\")"
   ]
  },
  {
   "cell_type": "code",
   "execution_count": 4,
   "metadata": {},
   "outputs": [
    {
     "data": {
      "text/plain": [
       "['dio0',\n",
       " 'auxin0',\n",
       " 'scope0',\n",
       " 'demod0',\n",
       " 'demod1',\n",
       " 'demod2',\n",
       " 'demod3',\n",
       " 'pid0_value',\n",
       " 'pid0_error',\n",
       " 'pid0_shift',\n",
       " 'pid1_value',\n",
       " 'pid1_error',\n",
       " 'pid1_shift',\n",
       " 'pid2_value',\n",
       " 'pid2_error',\n",
       " 'pid2_shift',\n",
       " 'pid3_value',\n",
       " 'pid3_error',\n",
       " 'pid3_shift',\n",
       " 'imp0',\n",
       " 'imp1']"
      ]
     },
     "execution_count": 4,
     "metadata": {},
     "output_type": "execute_result"
    }
   ],
   "source": [
    "mf.daq.signals_list()"
   ]
  },
  {
   "cell_type": "code",
   "execution_count": null,
   "metadata": {},
   "outputs": [],
   "source": []
  },
  {
   "cell_type": "code",
   "execution_count": null,
   "metadata": {},
   "outputs": [],
   "source": []
  },
  {
   "cell_type": "code",
   "execution_count": 7,
   "metadata": {},
   "outputs": [],
   "source": [
    "nodes = mf._controller._controller.get_nodetree(\"dev3337/*\")"
   ]
  },
  {
   "cell_type": "code",
   "execution_count": 8,
   "metadata": {},
   "outputs": [],
   "source": [
    "nodes = list(nodes.keys())"
   ]
  },
  {
   "cell_type": "code",
   "execution_count": 9,
   "metadata": {},
   "outputs": [],
   "source": [
    "import re"
   ]
  },
  {
   "cell_type": "code",
   "execution_count": 14,
   "metadata": {},
   "outputs": [],
   "source": [
    "pattern = \"a\"\n",
    "s = \"test\"\n",
    "res = re.match(pattern, s)"
   ]
  },
  {
   "cell_type": "code",
   "execution_count": 16,
   "metadata": {},
   "outputs": [],
   "source": [
    "pattern = '^a...s$'\n",
    "test_string = 'abyss'\n",
    "result = re.match(pattern, test_string)"
   ]
  },
  {
   "cell_type": "code",
   "execution_count": 17,
   "metadata": {},
   "outputs": [
    {
     "data": {
      "text/plain": [
       "<re.Match object; span=(0, 5), match='abyss'>"
      ]
     },
     "execution_count": 17,
     "metadata": {},
     "output_type": "execute_result"
    }
   ],
   "source": [
    "result"
   ]
  },
  {
   "cell_type": "code",
   "execution_count": null,
   "metadata": {},
   "outputs": [],
   "source": []
  },
  {
   "cell_type": "code",
   "execution_count": 12,
   "metadata": {},
   "outputs": [],
   "source": [
    "for node in nodes:\n",
    "    node = node.lower()\n",
    "    if re.match(\"str\", node):\n",
    "        print(node)"
   ]
  },
  {
   "cell_type": "code",
   "execution_count": 26,
   "metadata": {},
   "outputs": [],
   "source": [
    "nodes = [node.lower() for node in nodes]"
   ]
  },
  {
   "cell_type": "code",
   "execution_count": 20,
   "metadata": {},
   "outputs": [],
   "source": [
    "def get_node(mf):\n",
    "    nodes = mf._controller._controller.get_nodetree(\"/dev3337/*\", streamingonly=True)\n",
    "    nodes = list(nodes.keys())\n",
    "    streaming_nodes = {}\n",
    "    for node in nodes:\n",
    "        node = node.lower()\n",
    "        node_split = node.split(\"/\")[2:]\n",
    "        node_name = node_split[0][:-1] + str(int(node_split[1]) + 1)\n",
    "        if \"pid\" in node_name:\n",
    "            node_name += f\"_{node_split[-1]}\"\n",
    "        streaming_nodes[node_name] = node.replace(f\"/dev3337\", \"\")\n",
    "    return streaming_nodes"
   ]
  },
  {
   "cell_type": "code",
   "execution_count": 21,
   "metadata": {},
   "outputs": [
    {
     "data": {
      "text/plain": [
       "{'dio1': '/dios/0/input',\n",
       " 'auxin1': '/auxins/0/sample',\n",
       " 'scope1': '/scopes/0/stream/sample',\n",
       " 'demod1': '/demods/0/sample',\n",
       " 'demod2': '/demods/1/sample',\n",
       " 'demod3': '/demods/2/sample',\n",
       " 'demod4': '/demods/3/sample',\n",
       " 'pid1_value': '/pids/0/stream/value',\n",
       " 'pid1_error': '/pids/0/stream/error',\n",
       " 'pid1_shift': '/pids/0/stream/shift',\n",
       " 'pid2_value': '/pids/1/stream/value',\n",
       " 'pid2_error': '/pids/1/stream/error',\n",
       " 'pid2_shift': '/pids/1/stream/shift',\n",
       " 'pid3_value': '/pids/2/stream/value',\n",
       " 'pid3_error': '/pids/2/stream/error',\n",
       " 'pid3_shift': '/pids/2/stream/shift',\n",
       " 'pid4_value': '/pids/3/stream/value',\n",
       " 'pid4_error': '/pids/3/stream/error',\n",
       " 'pid4_shift': '/pids/3/stream/shift',\n",
       " 'imp1': '/imps/0/sample',\n",
       " 'imp2': '/imps/1/sample'}"
      ]
     },
     "execution_count": 21,
     "metadata": {},
     "output_type": "execute_result"
    }
   ],
   "source": [
    "get_node(mf)"
   ]
  },
  {
   "cell_type": "code",
   "execution_count": 16,
   "metadata": {},
   "outputs": [
    {
     "ename": "ValueError",
     "evalue": "invalid literal for int() with base 10: 'streams'",
     "output_type": "error",
     "traceback": [
      "\u001b[1;31m---------------------------------------------------------------------------\u001b[0m",
      "\u001b[1;31mValueError\u001b[0m                                Traceback (most recent call last)",
      "\u001b[1;32m<ipython-input-16-01352c0d885d>\u001b[0m in \u001b[0;36m<module>\u001b[1;34m\u001b[0m\n\u001b[1;32m----> 1\u001b[1;33m \u001b[0mint\u001b[0m\u001b[1;33m(\u001b[0m\u001b[1;34m\"streams\"\u001b[0m\u001b[1;33m)\u001b[0m\u001b[1;33m\u001b[0m\u001b[1;33m\u001b[0m\u001b[0m\n\u001b[0m",
      "\u001b[1;31mValueError\u001b[0m: invalid literal for int() with base 10: 'streams'"
     ]
    }
   ],
   "source": [
    "int(\"streams\")"
   ]
  },
  {
   "cell_type": "code",
   "execution_count": 42,
   "metadata": {},
   "outputs": [],
   "source": [
    "def get_nodes(mf):\n",
    "    nodes = mf._controller._controller.get_nodetree(\"/dev3337/*\", streamingonly=True)\n",
    "    nodes = list(nodes.keys())\n",
    "#     nodes.append(\"/dev3337/aaaaa/streams\")\n",
    "    streaming_nodes = {}\n",
    "    for node in nodes:\n",
    "        node = node.lower()\n",
    "        node = node.replace(\"/dev3337/\", \"\")\n",
    "        node_split = node.split(\"/\")\n",
    "        node_name = node_split[0][:-1] + node_split[1]\n",
    "        if \"pid\" in node_name:\n",
    "            node_name += f\"_{node_split[-1]}\"\n",
    "        streaming_nodes[node_name] = node\n",
    "    return streaming_nodes"
   ]
  },
  {
   "cell_type": "code",
   "execution_count": 41,
   "metadata": {},
   "outputs": [
    {
     "ename": "IndexError",
     "evalue": "list index out of range",
     "output_type": "error",
     "traceback": [
      "\u001b[1;31m---------------------------------------------------------------------------\u001b[0m",
      "\u001b[1;31mIndexError\u001b[0m                                Traceback (most recent call last)",
      "\u001b[1;32m<ipython-input-41-515922e83bab>\u001b[0m in \u001b[0;36m<module>\u001b[1;34m\u001b[0m\n\u001b[1;32m----> 1\u001b[1;33m \u001b[0mget_nodes\u001b[0m\u001b[1;33m(\u001b[0m\u001b[0mmf\u001b[0m\u001b[1;33m)\u001b[0m\u001b[1;33m\u001b[0m\u001b[1;33m\u001b[0m\u001b[0m\n\u001b[0m",
      "\u001b[1;32m<ipython-input-40-fe707e224c90>\u001b[0m in \u001b[0;36mget_nodes\u001b[1;34m(mf)\u001b[0m\n\u001b[0;32m      8\u001b[0m         \u001b[0mnode\u001b[0m \u001b[1;33m=\u001b[0m \u001b[0mnode\u001b[0m\u001b[1;33m.\u001b[0m\u001b[0mreplace\u001b[0m\u001b[1;33m(\u001b[0m\u001b[1;34m\"/dev3337/\"\u001b[0m\u001b[1;33m,\u001b[0m \u001b[1;34m\"\"\u001b[0m\u001b[1;33m)\u001b[0m\u001b[1;33m\u001b[0m\u001b[1;33m\u001b[0m\u001b[0m\n\u001b[0;32m      9\u001b[0m         \u001b[0mnode_split\u001b[0m \u001b[1;33m=\u001b[0m \u001b[0mnode\u001b[0m\u001b[1;33m.\u001b[0m\u001b[0msplit\u001b[0m\u001b[1;33m(\u001b[0m\u001b[1;34m\"/\"\u001b[0m\u001b[1;33m)\u001b[0m\u001b[1;33m[\u001b[0m\u001b[1;36m2\u001b[0m\u001b[1;33m:\u001b[0m\u001b[1;33m]\u001b[0m\u001b[1;33m\u001b[0m\u001b[1;33m\u001b[0m\u001b[0m\n\u001b[1;32m---> 10\u001b[1;33m         \u001b[0mnode_name\u001b[0m \u001b[1;33m=\u001b[0m \u001b[0mnode_split\u001b[0m\u001b[1;33m[\u001b[0m\u001b[1;36m0\u001b[0m\u001b[1;33m]\u001b[0m\u001b[1;33m[\u001b[0m\u001b[1;33m:\u001b[0m\u001b[1;33m-\u001b[0m\u001b[1;36m1\u001b[0m\u001b[1;33m]\u001b[0m \u001b[1;33m+\u001b[0m \u001b[0mnode_split\u001b[0m\u001b[1;33m[\u001b[0m\u001b[1;36m1\u001b[0m\u001b[1;33m]\u001b[0m\u001b[1;33m\u001b[0m\u001b[1;33m\u001b[0m\u001b[0m\n\u001b[0m\u001b[0;32m     11\u001b[0m         \u001b[1;32mif\u001b[0m \u001b[1;34m\"pid\"\u001b[0m \u001b[1;32min\u001b[0m \u001b[0mnode_name\u001b[0m\u001b[1;33m:\u001b[0m\u001b[1;33m\u001b[0m\u001b[1;33m\u001b[0m\u001b[0m\n\u001b[0;32m     12\u001b[0m             \u001b[0mnode_name\u001b[0m \u001b[1;33m+=\u001b[0m \u001b[1;34mf\"_{node_split[-1]}\"\u001b[0m\u001b[1;33m\u001b[0m\u001b[1;33m\u001b[0m\u001b[0m\n",
      "\u001b[1;31mIndexError\u001b[0m: list index out of range"
     ]
    }
   ],
   "source": [
    "get_nodes(mf)"
   ]
  },
  {
   "cell_type": "code",
   "execution_count": null,
   "metadata": {},
   "outputs": [],
   "source": []
  },
  {
   "cell_type": "code",
   "execution_count": null,
   "metadata": {},
   "outputs": [],
   "source": []
  },
  {
   "cell_type": "code",
   "execution_count": null,
   "metadata": {},
   "outputs": [],
   "source": []
  },
  {
   "cell_type": "code",
   "execution_count": 13,
   "metadata": {},
   "outputs": [],
   "source": [
    "nodes = mf._controller._controller.get_nodetree(\"*\", settingsonly=True)"
   ]
  },
  {
   "cell_type": "code",
   "execution_count": 14,
   "metadata": {},
   "outputs": [],
   "source": [
    "nodes = list(nodes.keys())"
   ]
  },
  {
   "cell_type": "code",
   "execution_count": 15,
   "metadata": {},
   "outputs": [],
   "source": [
    "nodes = [node.lower() for node in nodes]"
   ]
  },
  {
   "cell_type": "code",
   "execution_count": 17,
   "metadata": {},
   "outputs": [
    {
     "name": "stdout",
     "output_type": "stream",
     "text": [
      "configopen_\n",
      "debuglevel_\n",
      "mdsgroups_0devices\n",
      "mdsgroups_0status\n",
      "mdsgroups_0locked\n",
      "mdsgroups_0keepalive\n",
      "oscs0_freq\n",
      "demods0_adcselect\n",
      "demods0_order\n",
      "demods0_rate\n",
      "demods0_oscselect\n",
      "demods0_harmonic\n",
      "demods0_phaseshift\n",
      "demods0_sinc\n",
      "demods0_bypass\n",
      "demods0_timeconstant\n",
      "demods0_enable\n",
      "demods0_trigger\n",
      "demods1_adcselect\n",
      "demods1_order\n",
      "demods1_rate\n",
      "demods1_oscselect\n",
      "demods1_harmonic\n",
      "demods1_phaseshift\n",
      "demods1_sinc\n",
      "demods1_bypass\n",
      "demods1_timeconstant\n",
      "demods1_enable\n",
      "demods1_trigger\n",
      "extrefs0_enable\n",
      "extrefs0_automode\n",
      "extrefs0_demodselect\n",
      "triggersin_0level\n",
      "triggersin_1level\n",
      "triggersout_0source\n",
      "triggersout_0pulsewidth\n",
      "triggersout_1source\n",
      "triggersout_1pulsewidth\n",
      "systemextclk_\n",
      "systempreampenable_\n",
      "scopes0_enable\n",
      "scopes0_time\n",
      "scopes0_trigenable\n",
      "scopes0_trigrising\n",
      "scopes0_trigfalling\n",
      "scopes0_triglevel\n",
      "scopes0_length\n",
      "scopes0_trigholdoff\n",
      "scopes0_trigholdoffcount\n",
      "scopes0_trigholdoffmode\n",
      "scopes0_trigchannel\n",
      "scopes0_channels0inputselect\n",
      "scopes0_channels0bwlimit\n",
      "scopes0_channels0fullscale\n",
      "scopes0_channels0offset\n",
      "scopes0_channels0limitlower\n",
      "scopes0_channels0limitupper\n",
      "scopes0_channels1inputselect\n",
      "scopes0_channels1bwlimit\n",
      "scopes0_channels1fullscale\n",
      "scopes0_channels1offset\n",
      "scopes0_channels1limitlower\n",
      "scopes0_channels1limitupper\n",
      "scopes0_channel\n",
      "scopes0_single\n",
      "scopes0_trighysteresisabsolute\n",
      "scopes0_trighysteresisrelative\n",
      "scopes0_trighysteresismode\n",
      "scopes0_trigslope\n",
      "scopes0_triggateenable\n",
      "scopes0_triggateinputselect\n",
      "scopes0_segmentsenable\n",
      "scopes0_segmentscount\n",
      "scopes0_trigreference\n",
      "scopes0_trigdelay\n",
      "dios0_extclk\n",
      "dios0_decimation\n",
      "dios0_mode\n",
      "dios0_drive\n",
      "dios0_output\n",
      "sigins0_diff\n",
      "sigins0_ac\n",
      "sigins0_imp50\n",
      "sigins0_float\n",
      "sigins0_on\n",
      "sigins0_range\n",
      "sigins0_scaling\n",
      "currins0_range\n",
      "currins0_float\n",
      "currins0_on\n",
      "currins0_scaling\n",
      "sigouts0_imp50\n",
      "sigouts0_diff\n",
      "sigouts0_on\n",
      "sigouts0_range\n",
      "sigouts0_offset\n",
      "sigouts0_add\n",
      "sigouts0_enables1\n",
      "sigouts0_amplitudes1\n",
      "sigouts0_autorange\n",
      "auxins0_averaging\n",
      "systemimpedance_filter\n",
      "systemimpedance_application\n",
      "systemimpedance_precision\n",
      "systemimpedance_calibcablelength\n",
      "auxouts0_limitlower\n",
      "auxouts0_limitupper\n",
      "auxouts0_outputselect\n",
      "auxouts0_demodselect\n",
      "auxouts0_preoffset\n",
      "auxouts0_scale\n",
      "auxouts0_offset\n",
      "auxouts1_limitlower\n",
      "auxouts1_limitupper\n",
      "auxouts1_outputselect\n",
      "auxouts1_demodselect\n",
      "auxouts1_preoffset\n",
      "auxouts1_scale\n",
      "auxouts1_offset\n",
      "auxouts2_limitlower\n",
      "auxouts2_limitupper\n",
      "auxouts2_outputselect\n",
      "auxouts2_demodselect\n",
      "auxouts2_preoffset\n",
      "auxouts2_scale\n",
      "auxouts2_offset\n",
      "auxouts3_limitlower\n",
      "auxouts3_limitupper\n",
      "auxouts3_outputselect\n",
      "auxouts3_demodselect\n",
      "auxouts3_preoffset\n",
      "auxouts3_scale\n",
      "auxouts3_offset\n",
      "tuthresholds_0input\n",
      "tuthresholds_0inputchannel\n",
      "tuthresholds_0filterabs\n",
      "tuthresholds_0filtertimeconstant\n",
      "tuthresholds_0filtermode\n",
      "tuthresholds_0filterthresholdlow\n",
      "tuthresholds_0filterthresholdhigh\n",
      "tuthresholds_0activationtime\n",
      "tuthresholds_0deactivationtime\n",
      "tuthresholds_1input\n",
      "tuthresholds_1inputchannel\n",
      "tuthresholds_1filterabs\n",
      "tuthresholds_1filtertimeconstant\n",
      "tuthresholds_1filtermode\n",
      "tuthresholds_1filterthresholdlow\n",
      "tuthresholds_1filterthresholdhigh\n",
      "tuthresholds_1activationtime\n",
      "tuthresholds_1deactivationtime\n",
      "tuthresholds_2input\n",
      "tuthresholds_2inputchannel\n",
      "tuthresholds_2filterabs\n",
      "tuthresholds_2filtertimeconstant\n",
      "tuthresholds_2filtermode\n",
      "tuthresholds_2filterthresholdlow\n",
      "tuthresholds_2filterthresholdhigh\n",
      "tuthresholds_2activationtime\n",
      "tuthresholds_2deactivationtime\n",
      "tuthresholds_3input\n",
      "tuthresholds_3inputchannel\n",
      "tuthresholds_3filterabs\n",
      "tuthresholds_3filtertimeconstant\n",
      "tuthresholds_3filtermode\n",
      "tuthresholds_3filterthresholdlow\n",
      "tuthresholds_3filterthresholdhigh\n",
      "tuthresholds_3activationtime\n",
      "tuthresholds_3deactivationtime\n",
      "tulogicunits_0inputs0channel\n",
      "tulogicunits_0inputs0not\n",
      "tulogicunits_0ops0value\n",
      "tulogicunits_0inputs1channel\n",
      "tulogicunits_0inputs1not\n",
      "tulogicunits_0ops1value\n",
      "tulogicunits_0inputs2channel\n",
      "tulogicunits_0inputs2not\n",
      "tulogicunits_0pulsewidth\n",
      "tulogicunits_0keep\n",
      "tulogicunits_0invert\n",
      "tulogicunits_1inputs0channel\n",
      "tulogicunits_1inputs0not\n",
      "tulogicunits_1ops0value\n",
      "tulogicunits_1inputs1channel\n",
      "tulogicunits_1inputs1not\n",
      "tulogicunits_1ops1value\n",
      "tulogicunits_1inputs2channel\n",
      "tulogicunits_1inputs2not\n",
      "tulogicunits_1pulsewidth\n",
      "tulogicunits_1keep\n",
      "tulogicunits_1invert\n",
      "tulogicunits_2inputs0channel\n",
      "tulogicunits_2inputs0not\n",
      "tulogicunits_2ops0value\n",
      "tulogicunits_2inputs1channel\n",
      "tulogicunits_2inputs1not\n",
      "tulogicunits_2ops1value\n",
      "tulogicunits_2inputs2channel\n",
      "tulogicunits_2inputs2not\n",
      "tulogicunits_2pulsewidth\n",
      "tulogicunits_2keep\n",
      "tulogicunits_2invert\n",
      "tulogicunits_3inputs0channel\n",
      "tulogicunits_3inputs0not\n",
      "tulogicunits_3ops0value\n",
      "tulogicunits_3inputs1channel\n",
      "tulogicunits_3inputs1not\n",
      "tulogicunits_3ops1value\n",
      "tulogicunits_3inputs2channel\n",
      "tulogicunits_3inputs2not\n",
      "tulogicunits_3pulsewidth\n",
      "tulogicunits_3keep\n",
      "tulogicunits_3invert\n",
      "imps0_enable\n",
      "imps0_mode\n",
      "imps0_model\n",
      "imps0_demodoscselect\n",
      "imps0_demodharmonic\n",
      "imps0_voltageinputselect\n",
      "imps0_currentinputselect\n",
      "imps0_voltageinvert\n",
      "imps0_currentinvert\n",
      "imps0_demodorder\n",
      "imps0_demodtimeconstant\n",
      "imps0_demodsinc\n",
      "imps0_demodrate\n",
      "imps0_interpolation\n",
      "imps0_freq\n",
      "imps0_confidencesuppressionratio\n",
      "imps0_confidencesuppressionenable\n",
      "imps0_confidenceopendetectratio\n",
      "imps0_confidenceopendetectenable\n",
      "imps0_confidencecompensationratio\n",
      "imps0_confidencecompensationenable\n",
      "imps0_confidenceunderflowratio\n",
      "imps0_confidenceunderflowenable\n",
      "imps0_confidencefreqlimitenable\n",
      "imps0_confidenceqfactorenable\n",
      "imps0_confidenceoverflowenable\n",
      "imps0_biasenable\n",
      "imps0_biasvalue\n",
      "imps0_calibuserenable\n",
      "imps0_calibusersmooth\n",
      "imps0_calibinternalenable\n",
      "imps0_calibinternalsmooth\n",
      "imps0_discardenable\n",
      "imps0_discardlimitlower\n",
      "imps0_discardlimitupper\n",
      "imps0_currentpidenable\n",
      "imps0_autooutput\n",
      "imps0_autoinputrange\n",
      "imps0_outputamplitude\n",
      "imps0_outputrange\n",
      "imps0_outputon\n",
      "imps0_currentrange\n",
      "imps0_voltagerange\n",
      "imps0_impedancerange\n",
      "imps0_ac\n",
      "imps0_autobw\n",
      "imps0_maxbandwidth\n",
      "imps0_omegasuppression\n",
      "imps0_voltagescaling\n",
      "imps0_currentscaling\n",
      "imps0_confidencelowdut2tratio\n",
      "imps0_confidencelowdut2tenable\n"
     ]
    }
   ],
   "source": [
    "for node in nodes:\n",
    "    node = node.split(\"/\")\n",
    "    node = node[2:]\n",
    "    print(node[0]+node[1]+\"_\"+\"\".join(node[2:]))"
   ]
  },
  {
   "cell_type": "code",
   "execution_count": 8,
   "metadata": {},
   "outputs": [
    {
     "data": {
      "text/plain": [
       "['/dev3337/dios/0/input',\n",
       " '/dev3337/auxins/0/sample',\n",
       " '/dev3337/scopes/0/wave',\n",
       " '/dev3337/demods/0/sample',\n",
       " '/dev3337/demods/1/sample',\n",
       " '/dev3337/imps/0/sample']"
      ]
     },
     "execution_count": 8,
     "metadata": {},
     "output_type": "execute_result"
    }
   ],
   "source": [
    "nodes"
   ]
  }
 ],
 "metadata": {
  "kernelspec": {
   "display_name": "qcodes",
   "language": "python",
   "name": "qcodes"
  },
  "language_info": {
   "codemirror_mode": {
    "name": "ipython",
    "version": 3
   },
   "file_extension": ".py",
   "mimetype": "text/x-python",
   "name": "python",
   "nbconvert_exporter": "python",
   "pygments_lexer": "ipython3",
   "version": "3.7.5"
  }
 },
 "nbformat": 4,
 "nbformat_minor": 4
}
