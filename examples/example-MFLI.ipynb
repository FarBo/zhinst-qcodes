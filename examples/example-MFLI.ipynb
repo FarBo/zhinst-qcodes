{
 "cells": [
  {
   "cell_type": "code",
   "execution_count": 1,
   "metadata": {},
   "outputs": [],
   "source": [
    "%matplotlib inline\n",
    "import numpy as np\n",
    "import matplotlib.pyplot as plt\n",
    "\n",
    "import qcodes as qc\n",
    "from zhinst.qcodes import MFLI"
   ]
  },
  {
   "cell_type": "code",
   "execution_count": 2,
   "metadata": {},
   "outputs": [
    {
     "name": "stdout",
     "output_type": "stream",
     "text": [
      "Successfully connected to data server at localhost8004 api version: 6\n",
      "Successfully connected to device DEV3337 on interface 1GBE\n",
      "Connected to: Zurich Instruments MFLI (serial:dev3337, firmware:65939) in 0.50s\n"
     ]
    }
   ],
   "source": [
    "mf = MFLI(\"mf\", \"dev3337\")"
   ]
  },
  {
   "cell_type": "code",
   "execution_count": 3,
   "metadata": {},
   "outputs": [],
   "source": [
    "import time"
   ]
  },
  {
   "cell_type": "code",
   "execution_count": 4,
   "metadata": {},
   "outputs": [
    {
     "name": "stdout",
     "output_type": "stream",
     "text": [
      "0.03597736358642578\n",
      "X    : -4.47e-07\n",
      "Y    : -4.1e-07\n",
      "R    : 6.07e-07\n",
      "deg  : -2.4\n"
     ]
    }
   ],
   "source": [
    "tik = time.time()\n",
    "s = mf.demods[0].sample()\n",
    "print(time.time() - tik)\n",
    "\n",
    "print(f\"X    : {np.real(s):.3}\")\n",
    "print(f\"Y    : {np.imag(s):.3}\")\n",
    "print(f\"R    : {np.abs(s):.3}\")\n",
    "print(f\"deg  : {np.angle(s):.3}\")"
   ]
  },
  {
   "cell_type": "code",
   "execution_count": null,
   "metadata": {},
   "outputs": [],
   "source": []
  }
 ],
 "metadata": {
  "kernelspec": {
   "display_name": "qcodes",
   "language": "python",
   "name": "qcodes"
  },
  "language_info": {
   "codemirror_mode": {
    "name": "ipython",
    "version": 3
   },
   "file_extension": ".py",
   "mimetype": "text/x-python",
   "name": "python",
   "nbconvert_exporter": "python",
   "pygments_lexer": "ipython3",
   "version": "3.7.5"
  }
 },
 "nbformat": 4,
 "nbformat_minor": 4
}
