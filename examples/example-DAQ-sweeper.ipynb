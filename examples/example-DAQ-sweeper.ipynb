{
 "cells": [
  {
   "cell_type": "markdown",
   "metadata": {},
   "source": [
    "## Data Acquisition and Sweeper module for Lock-In devices"
   ]
  },
  {
   "cell_type": "code",
   "execution_count": 1,
   "metadata": {},
   "outputs": [],
   "source": [
    "# import the ZI QCoDeS drivers\n",
    "\n",
    "from zhinst.qcodes import MFLI\n",
    "import matplotlib.pyplot as plt"
   ]
  },
  {
   "cell_type": "code",
   "execution_count": 2,
   "metadata": {},
   "outputs": [
    {
     "name": "stdout",
     "output_type": "stream",
     "text": [
      "Successfully connected to data server at 10.42.3.788004 api version: 6\n",
      "Successfully connected to device DEV3337 on interface PCIE\n",
      "Connected to: Zurich Instruments MFLI (serial:dev3337, firmware:65939) in 0.68s\n"
     ]
    }
   ],
   "source": [
    "# connect to MFLI device with specified serial, interface and host\n",
    "\n",
    "mf = MFLI(\"mf\", \"dev3337\", interface=\"pcie\", host=\"10.42.3.78\")"
   ]
  },
  {
   "cell_type": "markdown",
   "metadata": {},
   "source": [
    "### Overview"
   ]
  },
  {
   "cell_type": "markdown",
   "metadata": {},
   "source": [
    "The MFLI QCoDeS instrument has several submodules and parameters that correspond to the hirarchy of the instrument's nodetree. The submodules correspond to the nodes in the nodetree. They are `InstrumentChannels` and can each again have submodules or QCoDeS `Parameters`. "
   ]
  },
  {
   "cell_type": "code",
   "execution_count": 3,
   "metadata": {},
   "outputs": [
    {
     "name": "stdout",
     "output_type": "stream",
     "text": [
      "daq\n",
      "sweeper\n",
      "stats\n",
      "oscs\n",
      "demods\n",
      "extrefs\n",
      "triggers\n",
      "status\n",
      "dios\n",
      "auxins\n",
      "system\n",
      "sigins\n",
      "currins\n",
      "sigouts\n",
      "features\n",
      "auxouts\n",
      "tu\n",
      "imps\n"
     ]
    }
   ],
   "source": [
    "for m in mf.submodules:\n",
    "    print(m)"
   ]
  },
  {
   "cell_type": "code",
   "execution_count": 4,
   "metadata": {},
   "outputs": [
    {
     "name": "stdout",
     "output_type": "stream",
     "text": [
      "adcselect\n",
      "order\n",
      "rate\n",
      "oscselect\n",
      "harmonic\n",
      "phaseshift\n",
      "sinc\n",
      "bypass\n",
      "timeconstant\n",
      "enable\n",
      "freq\n",
      "trigger\n",
      "phaseadjust\n",
      "sample\n"
     ]
    }
   ],
   "source": [
    "for p in mf.demods[0].parameters:\n",
    "    print(p)"
   ]
  },
  {
   "cell_type": "markdown",
   "metadata": {},
   "source": [
    "All the available settings of the instruments are automatically translated to QCoDeS parameters when connecting the device. The information about the parameter is transferred to the QCoDeS parameter."
   ]
  },
  {
   "cell_type": "code",
   "execution_count": 5,
   "metadata": {},
   "outputs": [
    {
     "name": "stdout",
     "output_type": "stream",
     "text": [
      "* `Node`: /DEV3337/OSCS/0/FREQ\n",
      "* `Description`: Frequency control for each oscillator.\n",
      "* `Properties`: Read, Write, Setting\n",
      "* `Type`: Double\n",
      "* `Unit`: Hz\n",
      "\n",
      "\n",
      "Parameter class:\n",
      "\n",
      "* `name` freq\n",
      "* `label` freq\n",
      "* `unit` Hz\n",
      "* `vals` None\n"
     ]
    }
   ],
   "source": [
    "doc = mf.oscs[0].freq.__doc__\n",
    "print(doc)"
   ]
  },
  {
   "cell_type": "code",
   "execution_count": 6,
   "metadata": {},
   "outputs": [
    {
     "data": {
      "text/plain": [
       "99999.99999990905"
      ]
     },
     "execution_count": 6,
     "metadata": {},
     "output_type": "execute_result"
    }
   ],
   "source": [
    "mf.oscs[0].freq()"
   ]
  },
  {
   "cell_type": "code",
   "execution_count": 7,
   "metadata": {},
   "outputs": [],
   "source": [
    "mf.oscs[0].freq(20e3)"
   ]
  },
  {
   "cell_type": "code",
   "execution_count": 8,
   "metadata": {},
   "outputs": [
    {
     "data": {
      "text/plain": [
       "20000.000000024444"
      ]
     },
     "execution_count": 8,
     "metadata": {},
     "output_type": "execute_result"
    }
   ],
   "source": [
    "mf.oscs[0].freq()"
   ]
  },
  {
   "cell_type": "code",
   "execution_count": null,
   "metadata": {},
   "outputs": [],
   "source": []
  },
  {
   "cell_type": "markdown",
   "metadata": {},
   "source": [
    "## Data Acquisition Module"
   ]
  },
  {
   "cell_type": "code",
   "execution_count": 9,
   "metadata": {
    "scrolled": true
   },
   "outputs": [
    {
     "name": "stdout",
     "output_type": "stream",
     "text": [
      "awgcontrol\n",
      "bandwidth\n",
      "bitmask\n",
      "bits\n",
      "buffercount\n",
      "buffersize\n",
      "clearhistory\n",
      "count\n",
      "delay\n",
      "device\n",
      "duration\n",
      "edge\n",
      "enable\n",
      "endless\n",
      "eventcount_mode\n",
      "fft_absolute\n",
      "fft_window\n",
      "findlevel\n",
      "flags\n",
      "forcetrigger\n",
      "grid_cols\n",
      "grid_direction\n",
      "grid_mode\n",
      "grid_overwrite\n",
      "grid_repetitions\n",
      "grid_rowrepetition\n",
      "grid_rows\n",
      "grid_waterfall\n",
      "historylength\n",
      "holdoff_count\n",
      "holdoff_time\n",
      "hysteresis\n",
      "level\n",
      "preview\n",
      "pulse_max\n",
      "pulse_min\n",
      "refreshrate\n",
      "save_csvlocale\n",
      "save_csvseparator\n",
      "save_directory\n",
      "save_fileformat\n",
      "save_filename\n",
      "save_save\n",
      "save_saveonread\n",
      "spectrum_autobandwidth\n",
      "spectrum_enable\n",
      "spectrum_frequencyspan\n",
      "spectrum_overlapped\n",
      "triggered\n",
      "triggernode\n",
      "type\n"
     ]
    }
   ],
   "source": [
    "# available parameters\n",
    "\n",
    "for p in mf.daq.parameters:\n",
    "    print(p)"
   ]
  },
  {
   "cell_type": "code",
   "execution_count": 10,
   "metadata": {},
   "outputs": [],
   "source": [
    "# settings for an example measurement\n",
    "\n",
    "mf.sigouts.on(1)\n",
    "mf.daq.spectrum_enable(1)\n",
    "mf.daq.fft_window(\"rectangular\")\n",
    "mf.daq.type(\"continuous\")\n",
    "mf.daq.grid_cols(512)\n",
    "mf.daq.grid_rows(10)"
   ]
  },
  {
   "cell_type": "code",
   "execution_count": 11,
   "metadata": {},
   "outputs": [
    {
     "data": {
      "text/plain": [
       "['demod1', 'demod2', 'imp']"
      ]
     },
     "execution_count": 11,
     "metadata": {},
     "output_type": "execute_result"
    }
   ],
   "source": [
    "# list available signals sources\n",
    "\n",
    "mf.daq.signals_list()"
   ]
  },
  {
   "cell_type": "code",
   "execution_count": 12,
   "metadata": {},
   "outputs": [
    {
     "data": {
      "text/plain": [
       "['x', 'y', 'r', 'xiy', 'theta', 'frequency', 'auxin1', 'auxin2', 'dio']"
      ]
     },
     "execution_count": 12,
     "metadata": {},
     "output_type": "execute_result"
    }
   ],
   "source": [
    "# and according singal types\n",
    "\n",
    "mf.daq.signals_list(\"demod1\")"
   ]
  },
  {
   "cell_type": "code",
   "execution_count": 13,
   "metadata": {},
   "outputs": [],
   "source": [
    "# add signals to the measurement\n",
    "\n",
    "mf.daq.signals_clear()\n",
    "signal1 = mf.daq.signals_add(\"demod1\", \"r\")     # specify signal_source and signal_type\n",
    "signal2 = mf.daq.signals_add(\"demod1\", \"theta\")\n",
    "signal3 = mf.daq.signals_add(\"demod1\", \"xiy\", fft=True)"
   ]
  },
  {
   "cell_type": "code",
   "execution_count": 14,
   "metadata": {},
   "outputs": [
    {
     "data": {
      "text/plain": [
       "['/dev3337/demods/0/sample.r.avg',\n",
       " '/dev3337/demods/0/sample.theta.avg',\n",
       " '/dev3337/demods/0/sample.xiy.fft.abs.avg']"
      ]
     },
     "execution_count": 14,
     "metadata": {},
     "output_type": "execute_result"
    }
   ],
   "source": [
    "# list all the signal nodes added \n",
    "\n",
    "mf.daq.signals"
   ]
  },
  {
   "cell_type": "code",
   "execution_count": 15,
   "metadata": {
    "scrolled": true
   },
   "outputs": [
    {
     "name": "stdout",
     "output_type": "stream",
     "text": [
      "subscribed to: /dev3337/demods/0/sample.r.avg\n",
      "subscribed to: /dev3337/demods/0/sample.theta.avg\n",
      "subscribed to: /dev3337/demods/0/sample.xiy.fft.abs.avg\n",
      "Progress: 0.0%\n",
      "Progress: 10.0%\n",
      "Progress: 20.0%\n",
      "Progress: 20.0%\n",
      "Progress: 30.0%\n",
      "Finished\n",
      "getting result from: /dev3337/demods/0/sample.r.avg\n",
      "getting result from: /dev3337/demods/0/sample.theta.avg\n",
      "getting result from: /dev3337/demods/0/sample.xiy.fft.abs.avg\n"
     ]
    }
   ],
   "source": [
    "# start the measurement\n",
    "\n",
    "mf.daq.measure()"
   ]
  },
  {
   "cell_type": "code",
   "execution_count": 16,
   "metadata": {},
   "outputs": [],
   "source": [
    "# retrieve the measurement results\n",
    "\n",
    "result1 = mf.daq.results[signal1]\n",
    "result2 = mf.daq.results[signal2]\n",
    "result3 = mf.daq.results[signal3]"
   ]
  },
  {
   "cell_type": "code",
   "execution_count": 17,
   "metadata": {},
   "outputs": [
    {
     "data": {
      "text/plain": [
       "<zhinst.toolkit.control.drivers.base.daq.DAQResult object at 0x000002143DA9DD88>\n",
       "\n",
       "path:        /dev3337/demods/0/sample.xiy.fft.abs.avg\n",
       "value:       (10, 511)\n",
       "frequency:   (511,)"
      ]
     },
     "execution_count": 17,
     "metadata": {},
     "output_type": "execute_result"
    }
   ],
   "source": [
    "result3"
   ]
  },
  {
   "cell_type": "code",
   "execution_count": 18,
   "metadata": {},
   "outputs": [
    {
     "data": {
      "image/png": "[encoded data removed]",
      "text/plain": [
       "<Figure size 432x288 with 1 Axes>"
      ]
     },
     "metadata": {
      "needs_background": "light"
     },
     "output_type": "display_data"
    }
   ],
   "source": [
    "# plot the measured grid\n",
    "\n",
    "plt.imshow(result1.value, extent=[result1.time[0], result1.time[-1], 0, 10], aspect=\"auto\")\n",
    "plt.show()"
   ]
  },
  {
   "cell_type": "code",
   "execution_count": 19,
   "metadata": {},
   "outputs": [
    {
     "data": {
      "image/png": "[encoded data removed]",
      "text/plain": [
       "<Figure size 432x288 with 1 Axes>"
      ]
     },
     "metadata": {
      "needs_background": "light"
     },
     "output_type": "display_data"
    }
   ],
   "source": [
    "# plot the FFT\n",
    "\n",
    "plt.plot(result3.frequency, result3.value[0])\n",
    "plt.yscale(\"log\")\n",
    "plt.show()"
   ]
  },
  {
   "cell_type": "code",
   "execution_count": null,
   "metadata": {},
   "outputs": [],
   "source": []
  },
  {
   "cell_type": "code",
   "execution_count": null,
   "metadata": {},
   "outputs": [],
   "source": []
  },
  {
   "cell_type": "code",
   "execution_count": null,
   "metadata": {},
   "outputs": [],
   "source": []
  },
  {
   "cell_type": "markdown",
   "metadata": {},
   "source": [
    "## Sweeper Module"
   ]
  },
  {
   "cell_type": "code",
   "execution_count": 20,
   "metadata": {
    "scrolled": true
   },
   "outputs": [
    {
     "name": "stdout",
     "output_type": "stream",
     "text": [
      "averaging_sample\n",
      "averaging_tc\n",
      "averaging_time\n",
      "awgcontrol\n",
      "bandwidth\n",
      "bandwidthcontrol\n",
      "bandwidthoverlap\n",
      "clearhistory\n",
      "device\n",
      "endless\n",
      "gridnode\n",
      "historylength\n",
      "loopcount\n",
      "maxbandwidth\n",
      "omegasuppression\n",
      "order\n",
      "phaseunwrap\n",
      "remainingtime\n",
      "samplecount\n",
      "save_csvlocale\n",
      "save_csvseparator\n",
      "save_directory\n",
      "save_fileformat\n",
      "save_filename\n",
      "save_save\n",
      "save_saveonread\n",
      "scan\n",
      "settling_inaccuracy\n",
      "settling_tc\n",
      "settling_time\n",
      "sincfilter\n",
      "start\n",
      "stop\n",
      "xmapping\n"
     ]
    }
   ],
   "source": [
    "for p in mf.sweeper.parameters:\n",
    "    print(p)"
   ]
  },
  {
   "cell_type": "code",
   "execution_count": 21,
   "metadata": {},
   "outputs": [
    {
     "data": {
      "text/plain": [
       "['auxout1offset',\n",
       " 'auxout2offset',\n",
       " 'auxout3offset',\n",
       " 'auxout4offset',\n",
       " 'demdod1phase',\n",
       " 'demdod2phase',\n",
       " 'frequency',\n",
       " 'output1amp',\n",
       " 'output1offset']"
      ]
     },
     "execution_count": 21,
     "metadata": {},
     "output_type": "execute_result"
    }
   ],
   "source": [
    "# what parameters are available to sweep?\n",
    "\n",
    "mf.sweeper.sweep_parameter_list()"
   ]
  },
  {
   "cell_type": "code",
   "execution_count": 22,
   "metadata": {},
   "outputs": [
    {
     "name": "stdout",
     "output_type": "stream",
     "text": [
      "set sweep parameter to 'frequency': 'oscs/0/freq'\n"
     ]
    }
   ],
   "source": [
    "# prepare a frequency sweep\n",
    "\n",
    "mf.sweeper.start(1e3)\n",
    "mf.sweeper.stop(510e3)\n",
    "mf.sweeper.samplecount(100)\n",
    "mf.sweeper.sweep_parameter(\"frequency\")\n",
    "\n",
    "# add a singal source\n",
    "\n",
    "signal1 = mf.sweeper.signals_add(\"demod1\")"
   ]
  },
  {
   "cell_type": "code",
   "execution_count": 23,
   "metadata": {},
   "outputs": [
    {
     "data": {
      "text/plain": [
       "['/dev3337/demods/0/sample']"
      ]
     },
     "execution_count": 23,
     "metadata": {},
     "output_type": "execute_result"
    }
   ],
   "source": [
    "mf.sweeper.signals"
   ]
  },
  {
   "cell_type": "code",
   "execution_count": 24,
   "metadata": {
    "scrolled": true
   },
   "outputs": [
    {
     "name": "stdout",
     "output_type": "stream",
     "text": [
      "subscribed to: /dev3337/demods/0/sample\n",
      "Sweeping 'oscs/0/freq' from 1000.0 to 510000.0\n",
      "Progress: 0.0%\n",
      "Progress: 8.0%\n",
      "Progress: 17.0%\n",
      "Progress: 28.0%\n",
      "Progress: 40.0%\n",
      "Progress: 52.0%\n",
      "Progress: 62.0%\n",
      "Progress: 71.0%\n",
      "Progress: 77.0%\n",
      "Progress: 82.0%\n",
      "Progress: 90.0%\n",
      "Progress: 90.0%\n",
      "Progress: 91.0%\n",
      "Progress: 91.0%\n",
      "Progress: 91.0%\n",
      "Progress: 91.0%\n",
      "Progress: 92.0%\n",
      "Progress: 92.0%\n",
      "Progress: 92.0%\n",
      "Progress: 92.0%\n",
      "Progress: 92.0%\n",
      "Progress: 92.0%\n",
      "Progress: 92.0%\n",
      "Progress: 92.0%\n",
      "Progress: 92.0%\n",
      "Progress: 92.0%\n",
      "Progress: 93.0%\n",
      "Progress: 93.0%\n",
      "Progress: 93.0%\n",
      "Progress: 93.0%\n",
      "Progress: 93.0%\n",
      "Progress: 93.0%\n",
      "Progress: 93.0%\n",
      "Progress: 93.0%\n",
      "Progress: 93.0%\n",
      "Progress: 93.0%\n",
      "Progress: 93.0%\n",
      "Progress: 94.0%\n",
      "Progress: 94.0%\n",
      "Progress: 94.0%\n",
      "Progress: 94.0%\n",
      "Progress: 94.0%\n",
      "Progress: 94.0%\n",
      "Progress: 94.0%\n",
      "Progress: 94.0%\n",
      "Progress: 95.0%\n",
      "Progress: 95.0%\n",
      "Progress: 95.0%\n",
      "Progress: 95.0%\n",
      "Progress: 95.0%\n",
      "Progress: 95.0%\n",
      "Progress: 95.0%\n",
      "Progress: 95.0%\n",
      "Progress: 95.0%\n",
      "Progress: 95.0%\n",
      "Progress: 95.0%\n",
      "Progress: 95.0%\n",
      "Progress: 95.0%\n",
      "Progress: 95.0%\n",
      "Progress: 95.0%\n",
      "Progress: 95.0%\n",
      "Progress: 95.0%\n",
      "Progress: 95.0%\n",
      "Progress: 96.0%\n",
      "Progress: 96.0%\n",
      "Progress: 96.0%\n",
      "Progress: 96.0%\n",
      "Progress: 96.0%\n",
      "Progress: 96.0%\n",
      "Progress: 96.0%\n",
      "Progress: 96.0%\n",
      "Progress: 96.0%\n",
      "Progress: 96.0%\n",
      "Progress: 96.0%\n",
      "Progress: 96.0%\n",
      "Progress: 96.0%\n",
      "Progress: 96.0%\n",
      "Progress: 96.0%\n",
      "Progress: 96.0%\n",
      "Progress: 96.0%\n",
      "Progress: 96.0%\n",
      "Progress: 96.0%\n",
      "Progress: 97.0%\n",
      "Progress: 97.0%\n",
      "Progress: 97.0%\n",
      "Progress: 97.0%\n",
      "Progress: 97.0%\n",
      "Progress: 97.0%\n",
      "Progress: 97.0%\n",
      "Progress: 97.0%\n",
      "Progress: 97.0%\n",
      "Progress: 97.0%\n",
      "Progress: 97.0%\n",
      "Progress: 97.0%\n",
      "Progress: 98.0%\n",
      "Progress: 98.0%\n",
      "Progress: 98.0%\n",
      "Progress: 98.0%\n",
      "Progress: 98.0%\n",
      "Progress: 98.0%\n",
      "Progress: 98.0%\n",
      "Progress: 98.0%\n",
      "Progress: 99.0%\n",
      "Progress: 99.0%\n",
      "Progress: 99.0%\n",
      "Progress: 99.0%\n",
      "Progress: 99.0%\n",
      "Progress: 99.0%\n",
      "Progress: 99.0%\n",
      "Progress: 99.0%\n",
      "Progress: 99.0%\n",
      "Progress: 99.0%\n",
      "Progress: 99.0%\n",
      "Progress: 99.0%\n",
      "Progress: 99.0%\n",
      "Progress: 99.0%\n",
      "Progress: 99.0%\n",
      "Progress: 99.0%\n",
      "Finished\n"
     ]
    }
   ],
   "source": [
    "# perform measurement\n",
    "\n",
    "mf.sweeper.measure(timeout=100)\n",
    "\n",
    "# get result\n",
    "result1 = mf.sweeper.results[signal1]"
   ]
  },
  {
   "cell_type": "code",
   "execution_count": 27,
   "metadata": {
    "scrolled": true
   },
   "outputs": [
    {
     "data": {
      "text/plain": [
       "<zhinst.toolkit.control.drivers.base.sweeper.SweeperResult object at 0x000002143EF49D08>\n",
       "\n",
       "attributes:\n",
       " - header\n",
       " - timestamp\n",
       " - samplecount\n",
       " - flags\n",
       " - sampleformat\n",
       " - sweepmode\n",
       " - bandwidthmode\n",
       " - auxin0\n",
       " - auxin0pwr\n",
       " - auxin0stddev\n",
       " - auxin1\n",
       " - auxin1pwr\n",
       " - auxin1stddev\n",
       " - bandwidth\n",
       " - frequency\n",
       " - frequencypwr\n",
       " - frequencystddev\n",
       " - grid\n",
       " - phase\n",
       " - phasepwr\n",
       " - phasestddev\n",
       " - r\n",
       " - rpwr\n",
       " - rstddev\n",
       " - settling\n",
       " - tc\n",
       " - tcmeas\n",
       " - x\n",
       " - xpwr\n",
       " - xstddev\n",
       " - y\n",
       " - ypwr\n",
       " - ystddev\n",
       " - count\n",
       " - nexttimestamp\n",
       " - settimestamp"
      ]
     },
     "execution_count": 27,
     "metadata": {},
     "output_type": "execute_result"
    }
   ],
   "source": [
    "result1"
   ]
  },
  {
   "cell_type": "code",
   "execution_count": 28,
   "metadata": {},
   "outputs": [
    {
     "data": {
      "image/png": "[encoded data removed]",
      "text/plain": [
       "<Figure size 432x288 with 1 Axes>"
      ]
     },
     "metadata": {
      "needs_background": "light"
     },
     "output_type": "display_data"
    }
   ],
   "source": [
    "plt.plot(result1.grid, result1.x)\n",
    "plt.show()"
   ]
  },
  {
   "cell_type": "code",
   "execution_count": null,
   "metadata": {},
   "outputs": [],
   "source": []
  },
  {
   "cell_type": "code",
   "execution_count": 30,
   "metadata": {},
   "outputs": [
    {
     "data": {
      "text/plain": [
       "['parameter_sweep',\n",
       " 'parameter_sweep_avg',\n",
       " 'noise_amplitude_sweep',\n",
       " 'frequency_response_analyzer',\n",
       " '3-omega_sweep',\n",
       " 'fra_sinc_filter',\n",
       " 'impedance']"
      ]
     },
     "execution_count": 30,
     "metadata": {},
     "output_type": "execute_result"
    }
   ],
   "source": [
    "mf.sweeper.application_list()"
   ]
  },
  {
   "cell_type": "code",
   "execution_count": 31,
   "metadata": {},
   "outputs": [
    {
     "name": "stdout",
     "output_type": "stream",
     "text": [
      "setting 'averaging/sample' to 20\n",
      "setting 'averaging/tc' to 15\n",
      "setting 'averaging/time' to 0.02\n"
     ]
    }
   ],
   "source": [
    "mf.sweeper.application(\"parameter_sweep_avg\")"
   ]
  },
  {
   "cell_type": "code",
   "execution_count": null,
   "metadata": {},
   "outputs": [],
   "source": []
  },
  {
   "cell_type": "code",
   "execution_count": null,
   "metadata": {},
   "outputs": [],
   "source": []
  }
 ],
 "metadata": {
  "kernelspec": {
   "display_name": "qcodes",
   "language": "python",
   "name": "qcodes"
  },
  "language_info": {
   "codemirror_mode": {
    "name": "ipython",
    "version": 3
   },
   "file_extension": ".py",
   "mimetype": "text/x-python",
   "name": "python",
   "nbconvert_exporter": "python",
   "pygments_lexer": "ipython3",
   "version": "3.7.5"
  }
 },
 "nbformat": 4,
 "nbformat_minor": 4
}
