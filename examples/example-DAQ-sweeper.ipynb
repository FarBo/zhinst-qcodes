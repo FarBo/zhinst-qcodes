{
 "cells": [
  {
   "cell_type": "markdown",
   "metadata": {},
   "source": [
    "## Data Acquisition and Sweeper module for Lock-In devices"
   ]
  },
  {
   "cell_type": "code",
   "execution_count": 1,
   "metadata": {},
   "outputs": [],
   "source": [
    "# import the ZI QCoDeS drivers\n",
    "\n",
    "from zhinst.qcodes import MFLI\n",
    "import matplotlib.pyplot as plt"
   ]
  },
  {
   "cell_type": "code",
   "execution_count": 2,
   "metadata": {},
   "outputs": [
    {
     "name": "stdout",
     "output_type": "stream",
     "text": [
      "Successfully connected to data server at 10.42.3.788004 api version: 6\n",
      "Successfully connected to device DEV3337 on interface PCIE\n",
      "Connected to: Zurich Instruments MFLI (serial:dev3337, firmware:65939) in 0.84s\n"
     ]
    }
   ],
   "source": [
    "# connect to MFLI device with specified serial, interface and host\n",
    "\n",
    "mf = MFLI(\"mf\", \"dev3337\", interface=\"pcie\", host=\"10.42.3.78\")"
   ]
  },
  {
   "cell_type": "markdown",
   "metadata": {},
   "source": [
    "### Overview"
   ]
  },
  {
   "cell_type": "markdown",
   "metadata": {},
   "source": [
    "The MFLI QCoDeS instrument has several submodules and parameters that correspond to the hirarchy of the instrument's nodetree. The submodules correspond to the nodes in the nodetree. They are `InstrumentChannels` and can each again have submodules or QCoDeS `Parameters`. "
   ]
  },
  {
   "cell_type": "code",
   "execution_count": 3,
   "metadata": {
    "scrolled": true
   },
   "outputs": [
    {
     "data": {
      "text/plain": [
       "{'vendor': 'Zurich Instruments',\n",
       " 'model': 'MFLI',\n",
       " 'serial': 'dev3337',\n",
       " 'firmware': 65939}"
      ]
     },
     "execution_count": 3,
     "metadata": {},
     "output_type": "execute_result"
    }
   ],
   "source": [
    "mf.get_idn()"
   ]
  },
  {
   "cell_type": "code",
   "execution_count": 4,
   "metadata": {},
   "outputs": [
    {
     "name": "stdout",
     "output_type": "stream",
     "text": [
      "daq\n",
      "sweeper\n",
      "stats\n",
      "oscs\n",
      "demods\n",
      "extrefs\n",
      "triggers\n",
      "status\n",
      "dios\n",
      "auxins\n",
      "system\n",
      "sigins\n",
      "currins\n",
      "sigouts\n",
      "features\n",
      "auxouts\n",
      "tu\n",
      "imps\n"
     ]
    }
   ],
   "source": [
    "for m in mf.submodules:\n",
    "    print(m)"
   ]
  },
  {
   "cell_type": "code",
   "execution_count": 5,
   "metadata": {},
   "outputs": [
    {
     "name": "stdout",
     "output_type": "stream",
     "text": [
      "adcselect\n",
      "order\n",
      "rate\n",
      "oscselect\n",
      "harmonic\n",
      "phaseshift\n",
      "sinc\n",
      "bypass\n",
      "timeconstant\n",
      "enable\n",
      "freq\n",
      "trigger\n",
      "phaseadjust\n",
      "sample\n"
     ]
    }
   ],
   "source": [
    "for p in mf.demods[0].parameters:\n",
    "    print(p)"
   ]
  },
  {
   "cell_type": "markdown",
   "metadata": {},
   "source": [
    "All the available settings of the instruments are automatically translated to QCoDeS parameters when connecting the device. The information about the parameter is transferred to the QCoDeS parameter."
   ]
  },
  {
   "cell_type": "code",
   "execution_count": 6,
   "metadata": {},
   "outputs": [
    {
     "name": "stdout",
     "output_type": "stream",
     "text": [
      "* `Node`: /DEV3337/OSCS/0/FREQ\n",
      "* `Description`: Frequency control for each oscillator.\n",
      "* `Properties`: Read, Write, Setting\n",
      "* `Type`: Double\n",
      "* `Unit`: Hz\n",
      "\n",
      "\n",
      "Parameter class:\n",
      "\n",
      "* `name` freq\n",
      "* `label` freq\n",
      "* `unit` Hz\n",
      "* `vals` None\n"
     ]
    }
   ],
   "source": [
    "doc = mf.oscs[0].freq.__doc__\n",
    "print(doc)"
   ]
  },
  {
   "cell_type": "code",
   "execution_count": 7,
   "metadata": {},
   "outputs": [
    {
     "data": {
      "text/plain": [
       "509999.99999987724"
      ]
     },
     "execution_count": 7,
     "metadata": {},
     "output_type": "execute_result"
    }
   ],
   "source": [
    "mf.oscs[0].freq()"
   ]
  },
  {
   "cell_type": "code",
   "execution_count": 8,
   "metadata": {},
   "outputs": [],
   "source": [
    "mf.oscs[0].freq(20e3)"
   ]
  },
  {
   "cell_type": "code",
   "execution_count": 9,
   "metadata": {},
   "outputs": [
    {
     "data": {
      "text/plain": [
       "20000.000000024444"
      ]
     },
     "execution_count": 9,
     "metadata": {},
     "output_type": "execute_result"
    }
   ],
   "source": [
    "mf.oscs[0].freq()"
   ]
  },
  {
   "cell_type": "code",
   "execution_count": null,
   "metadata": {},
   "outputs": [],
   "source": []
  },
  {
   "cell_type": "markdown",
   "metadata": {},
   "source": [
    "## Data Acquisition Module"
   ]
  },
  {
   "cell_type": "code",
   "execution_count": 10,
   "metadata": {
    "scrolled": true
   },
   "outputs": [
    {
     "name": "stdout",
     "output_type": "stream",
     "text": [
      "awgcontrol\n",
      "bandwidth\n",
      "bitmask\n",
      "bits\n",
      "buffercount\n",
      "buffersize\n",
      "clearhistory\n",
      "count\n",
      "delay\n",
      "device\n",
      "duration\n",
      "edge\n",
      "enable\n",
      "endless\n",
      "eventcount_mode\n",
      "fft_absolute\n",
      "fft_window\n",
      "findlevel\n",
      "flags\n",
      "forcetrigger\n",
      "grid_cols\n",
      "grid_direction\n",
      "grid_mode\n",
      "grid_overwrite\n",
      "grid_repetitions\n",
      "grid_rowrepetition\n",
      "grid_rows\n",
      "grid_waterfall\n",
      "historylength\n",
      "holdoff_count\n",
      "holdoff_time\n",
      "hysteresis\n",
      "level\n",
      "preview\n",
      "pulse_max\n",
      "pulse_min\n",
      "refreshrate\n",
      "save_csvlocale\n",
      "save_csvseparator\n",
      "save_directory\n",
      "save_fileformat\n",
      "save_filename\n",
      "save_save\n",
      "save_saveonread\n",
      "spectrum_autobandwidth\n",
      "spectrum_enable\n",
      "spectrum_frequencyspan\n",
      "spectrum_overlapped\n",
      "triggered\n",
      "triggernode\n",
      "type\n"
     ]
    }
   ],
   "source": [
    "# available parameters\n",
    "\n",
    "for p in mf.daq.parameters:\n",
    "    print(p)"
   ]
  },
  {
   "cell_type": "code",
   "execution_count": 11,
   "metadata": {},
   "outputs": [],
   "source": [
    "# settings for an example measurement\n",
    "\n",
    "mf.sigouts.on(1)\n",
    "mf.daq.spectrum_enable(1)\n",
    "mf.daq.fft_window(\"rectangular\")\n",
    "mf.daq.type(\"continuous\")\n",
    "mf.daq.grid_cols(512)\n",
    "mf.daq.grid_rows(10)"
   ]
  },
  {
   "cell_type": "code",
   "execution_count": 12,
   "metadata": {},
   "outputs": [
    {
     "name": "stdout",
     "output_type": "stream",
     "text": [
      "Specifies when the module should acquire data.\n",
      "\n",
      "Parameter class:\n",
      "\n",
      "* `name` type\n",
      "* `label` type\n",
      "* `unit` None\n",
      "* `vals` <Enum: {'continuous', 'dio', 'tracking_pulse', 'change', 'hardware', 'tracking', 'eventcount', 'pulse', 'edge'}>\n"
     ]
    }
   ],
   "source": [
    "print(mf.daq.type.__doc__)"
   ]
  },
  {
   "cell_type": "code",
   "execution_count": 13,
   "metadata": {},
   "outputs": [
    {
     "data": {
      "text/plain": [
       "['auxin1', 'demod1', 'demod2', 'imp1']"
      ]
     },
     "execution_count": 13,
     "metadata": {},
     "output_type": "execute_result"
    }
   ],
   "source": [
    "# list available signals sources\n",
    "\n",
    "mf.daq.signals_list()"
   ]
  },
  {
   "cell_type": "code",
   "execution_count": 14,
   "metadata": {},
   "outputs": [
    {
     "data": {
      "text/plain": [
       "['x', 'y', 'r', 'xiy', 'theta', 'frequency', 'auxin1', 'auxin2', 'dio']"
      ]
     },
     "execution_count": 14,
     "metadata": {},
     "output_type": "execute_result"
    }
   ],
   "source": [
    "# and according singal types\n",
    "\n",
    "mf.daq.signals_list(\"demod1\")"
   ]
  },
  {
   "cell_type": "code",
   "execution_count": 15,
   "metadata": {},
   "outputs": [],
   "source": [
    "# add signals to the measurement\n",
    "\n",
    "mf.daq.signals_clear()\n",
    "signal1 = mf.daq.signals_add(\"demod1\", \"r\")     # specify signal_source and signal_type\n",
    "signal2 = mf.daq.signals_add(\"demod1\", \"theta\")\n",
    "signal3 = mf.daq.signals_add(\"demod1\", \"xiy\", fft=True)"
   ]
  },
  {
   "cell_type": "code",
   "execution_count": 16,
   "metadata": {},
   "outputs": [
    {
     "data": {
      "text/plain": [
       "['/dev3337/demods/0/sample.r.avg',\n",
       " '/dev3337/demods/0/sample.theta.avg',\n",
       " '/dev3337/demods/0/sample.xiy.fft.abs.avg']"
      ]
     },
     "execution_count": 16,
     "metadata": {},
     "output_type": "execute_result"
    }
   ],
   "source": [
    "# list all the signal nodes added \n",
    "\n",
    "mf.daq.signals"
   ]
  },
  {
   "cell_type": "code",
   "execution_count": 17,
   "metadata": {},
   "outputs": [
    {
     "data": {
      "text/plain": [
       "'/dev3337/demods/0/sample.r.avg'"
      ]
     },
     "execution_count": 17,
     "metadata": {},
     "output_type": "execute_result"
    }
   ],
   "source": [
    "signal1"
   ]
  },
  {
   "cell_type": "code",
   "execution_count": 18,
   "metadata": {
    "scrolled": true
   },
   "outputs": [
    {
     "name": "stdout",
     "output_type": "stream",
     "text": [
      "subscribed to: /dev3337/demods/0/sample.r.avg\n",
      "subscribed to: /dev3337/demods/0/sample.theta.avg\n",
      "subscribed to: /dev3337/demods/0/sample.xiy.fft.abs.avg\n",
      "Progress: 0.0%\n",
      "Progress: 0.0%\n",
      "Progress: 0.0%\n",
      "Progress: 10.0%\n",
      "Progress: 40.0%\n",
      "Progress: 60.0%\n",
      "Progress: 80.0%\n",
      "Finished\n"
     ]
    }
   ],
   "source": [
    "# start the measurement\n",
    "\n",
    "mf.daq.measure()"
   ]
  },
  {
   "cell_type": "code",
   "execution_count": 19,
   "metadata": {},
   "outputs": [],
   "source": [
    "# retrieve the measurement results\n",
    "\n",
    "result1 = mf.daq.results[signal1]\n",
    "result2 = mf.daq.results[signal2]\n",
    "result3 = mf.daq.results[signal3]"
   ]
  },
  {
   "cell_type": "code",
   "execution_count": 20,
   "metadata": {},
   "outputs": [
    {
     "data": {
      "text/plain": [
       "<zhinst.toolkit.control.drivers.base.daq.DAQResult object at 0x0000023B8467D588>\n",
       "\n",
       "path:        /dev3337/demods/0/sample.xiy.fft.abs.avg\n",
       "value:       (10, 511)\n",
       "frequency:   (511,)"
      ]
     },
     "execution_count": 20,
     "metadata": {},
     "output_type": "execute_result"
    }
   ],
   "source": [
    "result3"
   ]
  },
  {
   "cell_type": "code",
   "execution_count": 21,
   "metadata": {},
   "outputs": [
    {
     "data": {
      "image/png": "[encoded data removed]",
      "text/plain": [
       "<Figure size 432x288 with 1 Axes>"
      ]
     },
     "metadata": {
      "needs_background": "light"
     },
     "output_type": "display_data"
    }
   ],
   "source": [
    "# plot the measured grid\n",
    "\n",
    "plt.imshow(result1.value, extent=[result1.time[0], result1.time[-1], 0, 10], aspect=\"auto\")\n",
    "plt.show()"
   ]
  },
  {
   "cell_type": "code",
   "execution_count": 28,
   "metadata": {},
   "outputs": [
    {
     "data": {
      "image/png": "[encoded data removed]",
      "text/plain": [
       "<Figure size 432x288 with 1 Axes>"
      ]
     },
     "metadata": {
      "needs_background": "light"
     },
     "output_type": "display_data"
    }
   ],
   "source": [
    "# plot the FFT\n",
    "\n",
    "plt.plot(result3.frequency, result3.value[0])\n",
    "plt.yscale(\"log\")\n",
    "plt.show()"
   ]
  },
  {
   "cell_type": "code",
   "execution_count": 29,
   "metadata": {},
   "outputs": [
    {
     "data": {
      "text/plain": [
       "array([[0.07078836, 0.07078522, 0.07078528, ..., 0.07080761, 0.070805  ,\n",
       "        0.07080681],\n",
       "       [0.07078232, 0.07078099, 0.07077932, ..., 0.07080098, 0.0708016 ,\n",
       "        0.07079742],\n",
       "       [0.07081358, 0.07081031, 0.07081079, ..., 0.07079341, 0.07079534,\n",
       "        0.0708004 ],\n",
       "       ...,\n",
       "       [0.07077532, 0.07077552, 0.07077888, ..., 0.07076807, 0.07076422,\n",
       "        0.0707588 ],\n",
       "       [0.07078082, 0.07077848, 0.07077539, ..., 0.07080068, 0.07080262,\n",
       "        0.07080007],\n",
       "       [0.07080903, 0.070812  , 0.07080555, ..., 0.07079928, 0.07080174,\n",
       "        0.07080504]])"
      ]
     },
     "execution_count": 29,
     "metadata": {},
     "output_type": "execute_result"
    }
   ],
   "source": [
    "result1.value"
   ]
  },
  {
   "cell_type": "code",
   "execution_count": null,
   "metadata": {},
   "outputs": [],
   "source": []
  },
  {
   "cell_type": "code",
   "execution_count": null,
   "metadata": {},
   "outputs": [],
   "source": []
  },
  {
   "cell_type": "markdown",
   "metadata": {},
   "source": [
    "## Sweeper Module"
   ]
  },
  {
   "cell_type": "code",
   "execution_count": 30,
   "metadata": {
    "scrolled": true
   },
   "outputs": [
    {
     "name": "stdout",
     "output_type": "stream",
     "text": [
      "averaging_sample\n",
      "averaging_tc\n",
      "averaging_time\n",
      "awgcontrol\n",
      "bandwidth\n",
      "bandwidthcontrol\n",
      "bandwidthoverlap\n",
      "clearhistory\n",
      "device\n",
      "endless\n",
      "gridnode\n",
      "historylength\n",
      "loopcount\n",
      "maxbandwidth\n",
      "omegasuppression\n",
      "order\n",
      "phaseunwrap\n",
      "remainingtime\n",
      "samplecount\n",
      "save_csvlocale\n",
      "save_csvseparator\n",
      "save_directory\n",
      "save_fileformat\n",
      "save_filename\n",
      "save_save\n",
      "save_saveonread\n",
      "scan\n",
      "settling_inaccuracy\n",
      "settling_tc\n",
      "settling_time\n",
      "sincfilter\n",
      "start\n",
      "stop\n",
      "xmapping\n"
     ]
    }
   ],
   "source": [
    "for p in mf.sweeper.parameters:\n",
    "    print(p)"
   ]
  },
  {
   "cell_type": "code",
   "execution_count": 31,
   "metadata": {},
   "outputs": [
    {
     "data": {
      "text/plain": [
       "['auxout1offset',\n",
       " 'auxout2offset',\n",
       " 'auxout3offset',\n",
       " 'auxout4offset',\n",
       " 'demdod1phase',\n",
       " 'demdod2phase',\n",
       " 'frequency',\n",
       " 'output1amp',\n",
       " 'output1offset']"
      ]
     },
     "execution_count": 31,
     "metadata": {},
     "output_type": "execute_result"
    }
   ],
   "source": [
    "# what parameters are available to sweep?\n",
    "\n",
    "mf.sweeper.sweep_parameter_list()"
   ]
  },
  {
   "cell_type": "code",
   "execution_count": 32,
   "metadata": {},
   "outputs": [
    {
     "name": "stdout",
     "output_type": "stream",
     "text": [
      "set sweep parameter to 'frequency': 'oscs/0/freq'\n"
     ]
    }
   ],
   "source": [
    "mf.sweeper.sweep_parameter(\"frequency\")"
   ]
  },
  {
   "cell_type": "code",
   "execution_count": 33,
   "metadata": {},
   "outputs": [
    {
     "data": {
      "text/plain": [
       "['auxin1', 'demod1', 'demod2', 'imp1']"
      ]
     },
     "execution_count": 33,
     "metadata": {},
     "output_type": "execute_result"
    }
   ],
   "source": [
    "mf.sweeper.signals_list()"
   ]
  },
  {
   "cell_type": "code",
   "execution_count": 34,
   "metadata": {},
   "outputs": [
    {
     "name": "stdout",
     "output_type": "stream",
     "text": [
      "set sweep parameter to 'frequency': 'oscs/0/freq'\n"
     ]
    }
   ],
   "source": [
    "# prepare a frequency sweep\n",
    "\n",
    "mf.sweeper.start(1e3)\n",
    "mf.sweeper.stop(510e3)\n",
    "mf.sweeper.samplecount(100)\n",
    "mf.sweeper.sweep_parameter(\"frequency\")\n",
    "\n",
    "# add a singal source\n",
    "\n",
    "signal1 = mf.sweeper.signals_add(\"demod1\")"
   ]
  },
  {
   "cell_type": "code",
   "execution_count": 35,
   "metadata": {},
   "outputs": [
    {
     "data": {
      "text/plain": [
       "['/dev3337/demods/0/sample']"
      ]
     },
     "execution_count": 35,
     "metadata": {},
     "output_type": "execute_result"
    }
   ],
   "source": [
    "mf.sweeper.signals"
   ]
  },
  {
   "cell_type": "code",
   "execution_count": 36,
   "metadata": {
    "scrolled": true
   },
   "outputs": [
    {
     "name": "stdout",
     "output_type": "stream",
     "text": [
      "subscribed to: /dev3337/demods/0/sample\n",
      "Sweeping oscs/0/freq from 1000.0 to 510000.0\n",
      "Progress: 0.0%\n",
      "Progress: 6.0%\n",
      "Progress: 12.0%\n",
      "Progress: 19.0%\n",
      "Progress: 20.0%\n",
      "Progress: 20.0%\n",
      "Progress: 25.0%\n",
      "Progress: 25.0%\n",
      "Progress: 25.0%\n",
      "Progress: 25.0%\n",
      "Progress: 25.0%\n",
      "Progress: 25.0%\n",
      "Progress: 26.0%\n",
      "Progress: 26.0%\n",
      "Progress: 26.0%\n",
      "Progress: 26.0%\n",
      "Progress: 26.0%\n",
      "Progress: 26.0%\n",
      "Progress: 26.0%\n",
      "Progress: 26.0%\n",
      "Progress: 26.0%\n",
      "Progress: 27.0%\n",
      "Progress: 27.0%\n",
      "Progress: 27.0%\n",
      "Progress: 27.0%\n",
      "Progress: 27.0%\n",
      "Progress: 27.0%\n",
      "Progress: 27.0%\n",
      "Progress: 27.0%\n",
      "Progress: 27.0%\n",
      "Progress: 27.0%\n",
      "Progress: 27.0%\n",
      "Progress: 27.0%\n",
      "Progress: 28.0%\n",
      "Progress: 33.0%\n",
      "Progress: 43.0%\n",
      "Progress: 53.0%\n",
      "Progress: 63.0%\n",
      "Progress: 73.0%\n",
      "Progress: 83.0%\n",
      "Progress: 93.0%\n",
      "Finished\n"
     ]
    }
   ],
   "source": [
    "# perform measurement\n",
    "\n",
    "mf.sweeper.measure(timeout=100)\n",
    "\n",
    "# get result\n",
    "result1 = mf.sweeper.results[signal1]"
   ]
  },
  {
   "cell_type": "code",
   "execution_count": 37,
   "metadata": {
    "scrolled": true
   },
   "outputs": [
    {
     "data": {
      "text/plain": [
       "array([  1000.        ,   6141.41414141,  11282.82828283,  16424.24242424,\n",
       "        21565.65656565,  26707.07070706,  31848.48484848,  36989.89898989,\n",
       "        42131.3131313 ,  47272.72727272,  52414.14141413,  57555.55555554,\n",
       "        62696.96969695,  67838.38383837,  72979.79797978,  78121.21212119,\n",
       "        83262.62626261,  88404.04040402,  93545.45454543,  98686.86868685,\n",
       "       103828.28282826, 108969.69696967, 114111.11111108, 119252.5252525 ,\n",
       "       124393.93939391, 129535.35353532, 134676.76767674, 139818.18181815,\n",
       "       144959.59595956, 150101.01010097, 155242.42424239, 160383.8383838 ,\n",
       "       165525.25252521, 170666.66666663, 175808.08080804, 180949.49494945,\n",
       "       186090.90909086, 191232.32323228, 196373.73737369, 201515.1515151 ,\n",
       "       206656.56565652, 211797.97979793, 216939.39393934, 222080.80808075,\n",
       "       227222.22222217, 232363.63636358, 237505.05050499, 242646.46464641,\n",
       "       247787.87878782, 252929.29292923, 258070.70707065, 263212.12121206,\n",
       "       268353.53535347, 273494.94949488, 278636.3636363 , 283777.77777771,\n",
       "       288919.19191912, 294060.60606054, 299202.02020195, 304343.43434336,\n",
       "       309484.84848477, 314626.26262619, 319767.6767676 , 324909.09090901,\n",
       "       330050.50505043, 335191.91919184, 340333.33333325, 345474.74747466,\n",
       "       350616.16161608, 355757.57575749, 360898.9898989 , 366040.40404032,\n",
       "       371181.81818173, 376323.23232314, 381464.64646455, 386606.06060597,\n",
       "       391747.47474738, 396888.88888879, 402030.30303021, 407171.71717162,\n",
       "       412313.13131303, 417454.54545445, 422595.95959586, 427737.37373727,\n",
       "       432878.78787868, 438020.2020201 , 443161.61616151, 448303.03030292,\n",
       "       453444.44444434, 458585.85858575, 463727.27272716, 468868.68686857,\n",
       "       474010.10100999, 479151.5151514 , 484292.92929281, 489434.34343423,\n",
       "       494575.75757564, 499717.17171705, 504858.58585846, 509999.99999988])"
      ]
     },
     "execution_count": 37,
     "metadata": {},
     "output_type": "execute_result"
    }
   ],
   "source": [
    "result1.grid"
   ]
  },
  {
   "cell_type": "code",
   "execution_count": 38,
   "metadata": {
    "scrolled": true
   },
   "outputs": [
    {
     "data": {
      "text/plain": [
       "array([  1000.00000003,   6141.4141414 ,  11282.82828276,  16424.24242434,\n",
       "        21565.6565657 ,  26707.07070706,  31848.48484842,  36989.89898979,\n",
       "        42131.31313136,  47272.72727273,  52414.14141409,  57555.55555545,\n",
       "        62696.96969703,  67838.38383839,  72979.79797976,  78121.21212112,\n",
       "        83262.62626269,  88404.04040406,  93545.45454542,  98686.86868678,\n",
       "       103828.28282836, 108969.69696972, 114111.11111109, 119252.52525245,\n",
       "       124393.93939381, 129535.35353539, 134676.76767675, 139818.18181811,\n",
       "       144959.59595948, 150101.01010105, 155242.42424242, 160383.83838378,\n",
       "       165525.25252514, 170666.66666672, 175808.08080808, 180949.49494945,\n",
       "       186090.90909081, 191232.32323217, 196373.73737375, 201515.15151511,\n",
       "       206656.56565647, 211797.97979784, 216939.39393941, 222080.80808078,\n",
       "       227222.22222214, 232363.6363635 , 237505.05050508, 242646.46464644,\n",
       "       247787.8787878 , 252929.29292917, 258070.70707074, 263212.12121211,\n",
       "       268353.53535347, 273494.94949483, 278636.3636362 , 283777.77777777,\n",
       "       288919.19191913, 294060.6060605 , 299202.02020186, 304343.43434344,\n",
       "       309484.8484848 , 314626.26262616, 319767.67676753, 324909.0909091 ,\n",
       "       330050.50505047, 335191.91919183, 340333.33333319, 345474.74747477,\n",
       "       350616.16161613, 355757.57575749, 360898.98989886, 366040.40404022,\n",
       "       371181.8181818 , 376323.23232316, 381464.64646452, 386606.06060589,\n",
       "       391747.47474746, 396888.88888882, 402030.30303019, 407171.71717155,\n",
       "       412313.13131313, 417454.54545449, 422595.95959585, 427737.37373722,\n",
       "       432878.78787858, 438020.20202016, 443161.61616152, 448303.03030288,\n",
       "       453444.44444424, 458585.85858582, 463727.27272718, 468868.68686855,\n",
       "       474010.10100991, 479151.51515149, 484292.92929285, 489434.34343421,\n",
       "       494575.75757557, 499717.17171715, 504858.58585851, 509999.99999988])"
      ]
     },
     "execution_count": 38,
     "metadata": {},
     "output_type": "execute_result"
    }
   ],
   "source": [
    "result1.frequency"
   ]
  },
  {
   "cell_type": "code",
   "execution_count": 42,
   "metadata": {},
   "outputs": [
    {
     "data": {
      "image/png": "[encoded data removed]",
      "text/plain": [
       "<Figure size 432x288 with 1 Axes>"
      ]
     },
     "metadata": {
      "needs_background": "light"
     },
     "output_type": "display_data"
    }
   ],
   "source": [
    "plt.plot(result1.frequency, result1.x)\n",
    "plt.show()"
   ]
  },
  {
   "cell_type": "code",
   "execution_count": null,
   "metadata": {},
   "outputs": [],
   "source": []
  },
  {
   "cell_type": "code",
   "execution_count": 43,
   "metadata": {},
   "outputs": [
    {
     "data": {
      "text/plain": [
       "['parameter_sweep',\n",
       " 'parameter_sweep_avg',\n",
       " 'noise_amplitude_sweep',\n",
       " 'frequency_response_analyzer',\n",
       " '3-omega_sweep',\n",
       " 'fra_sinc_filter',\n",
       " 'impedance']"
      ]
     },
     "execution_count": 43,
     "metadata": {},
     "output_type": "execute_result"
    }
   ],
   "source": [
    "mf.sweeper.application_list()"
   ]
  },
  {
   "cell_type": "code",
   "execution_count": 44,
   "metadata": {},
   "outputs": [
    {
     "name": "stdout",
     "output_type": "stream",
     "text": [
      "setting 'settling/time' to 0.01\n",
      "setting 'settling/inaccuracy' to 0.0001\n",
      "setting 'averaging/sample' to 20\n",
      "setting 'averaging/tc' to 15\n",
      "setting 'averaging/time' to 0.02\n",
      "setting 'bandwidth' to 100\n",
      "setting 'maxbandwidth' to 100\n",
      "setting 'bandwidthoverlap' to 1\n",
      "setting 'omegasuppression' to 40\n",
      "setting 'order' to 8\n"
     ]
    }
   ],
   "source": [
    "mf.sweeper.application(\"frequency_response_analyzer\")"
   ]
  },
  {
   "cell_type": "code",
   "execution_count": null,
   "metadata": {},
   "outputs": [],
   "source": []
  },
  {
   "cell_type": "code",
   "execution_count": null,
   "metadata": {},
   "outputs": [],
   "source": []
  }
 ],
 "metadata": {
  "kernelspec": {
   "display_name": "qcodes",
   "language": "python",
   "name": "qcodes"
  },
  "language_info": {
   "codemirror_mode": {
    "name": "ipython",
    "version": 3
   },
   "file_extension": ".py",
   "mimetype": "text/x-python",
   "name": "python",
   "nbconvert_exporter": "python",
   "pygments_lexer": "ipython3",
   "version": "3.7.5"
  }
 },
 "nbformat": 4,
 "nbformat_minor": 4
}
